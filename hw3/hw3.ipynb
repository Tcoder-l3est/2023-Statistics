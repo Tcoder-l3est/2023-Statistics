{
 "cells": [
  {
   "cell_type": "code",
   "execution_count": 42,
   "metadata": {},
   "outputs": [],
   "source": [
    "import pandas as pd\n",
    "import numpy as np\n",
    "import warnings\n",
    "from scipy import stats\n",
    "warnings.filterwarnings(\"ignore\")\n",
    "\n",
    "# data visualization and missing values\n",
    "import matplotlib.pyplot as plt\n",
    "\n",
    "# stats\n",
    "from statsmodels.distributions.empirical_distribution import ECDF\n",
    "\n",
    "# machine learning\n",
    "from sklearn.preprocessing import StandardScaler\n",
    "from sklearn.model_selection import train_test_split, cross_val_score \n",
    "\n",
    "\n",
    "#设置jupyter显示多行结果\n",
    "from IPython.core.interactiveshell import InteractiveShell\n",
    "InteractiveShell.ast_node_interactivity='all'#默认为'last"
   ]
  },
  {
   "cell_type": "markdown",
   "metadata": {},
   "source": [
    "## 1 数据读取"
   ]
  },
  {
   "cell_type": "code",
   "execution_count": 43,
   "metadata": {},
   "outputs": [
    {
     "name": "stdout",
     "output_type": "stream",
     "text": [
      "Data set size: (205, 26)\n",
      "<class 'pandas.core.frame.DataFrame'>\n",
      "RangeIndex: 205 entries, 0 to 204\n",
      "Data columns (total 26 columns):\n",
      " #   Column            Non-Null Count  Dtype  \n",
      "---  ------            --------------  -----  \n",
      " 0   car_ID            205 non-null    int64  \n",
      " 1   symboling         205 non-null    int64  \n",
      " 2   CarName           205 non-null    object \n",
      " 3   fueltype          205 non-null    object \n",
      " 4   aspiration        205 non-null    object \n",
      " 5   doornumber        205 non-null    object \n",
      " 6   carbody           205 non-null    object \n",
      " 7   drivewheel        205 non-null    object \n",
      " 8   enginelocation    205 non-null    object \n",
      " 9   wheelbase         205 non-null    float64\n",
      " 10  carlength         205 non-null    float64\n",
      " 11  carwidth          205 non-null    float64\n",
      " 12  carheight         205 non-null    float64\n",
      " 13  curbweight        205 non-null    int64  \n",
      " 14  enginetype        205 non-null    object \n",
      " 15  cylindernumber    205 non-null    object \n",
      " 16  enginesize        205 non-null    int64  \n",
      " 17  fuelsystem        205 non-null    object \n",
      " 18  boreratio         205 non-null    float64\n",
      " 19  stroke            205 non-null    float64\n",
      " 20  compressionratio  205 non-null    float64\n",
      " 21  horsepower        205 non-null    int64  \n",
      " 22  peakrpm           205 non-null    int64  \n",
      " 23  citympg           205 non-null    int64  \n",
      " 24  highwaympg        205 non-null    int64  \n",
      " 25  price             205 non-null    float64\n",
      "dtypes: float64(8), int64(8), object(10)\n",
      "memory usage: 41.8+ KB\n",
      "None\n"
     ]
    },
    {
     "data": {
      "text/html": [
       "<div>\n",
       "<style scoped>\n",
       "    .dataframe tbody tr th:only-of-type {\n",
       "        vertical-align: middle;\n",
       "    }\n",
       "\n",
       "    .dataframe tbody tr th {\n",
       "        vertical-align: top;\n",
       "    }\n",
       "\n",
       "    .dataframe thead th {\n",
       "        text-align: right;\n",
       "    }\n",
       "</style>\n",
       "<table border=\"1\" class=\"dataframe\">\n",
       "  <thead>\n",
       "    <tr style=\"text-align: right;\">\n",
       "      <th></th>\n",
       "      <th>car_ID</th>\n",
       "      <th>symboling</th>\n",
       "      <th>CarName</th>\n",
       "      <th>fueltype</th>\n",
       "      <th>aspiration</th>\n",
       "      <th>doornumber</th>\n",
       "      <th>carbody</th>\n",
       "      <th>drivewheel</th>\n",
       "      <th>enginelocation</th>\n",
       "      <th>wheelbase</th>\n",
       "      <th>...</th>\n",
       "      <th>enginesize</th>\n",
       "      <th>fuelsystem</th>\n",
       "      <th>boreratio</th>\n",
       "      <th>stroke</th>\n",
       "      <th>compressionratio</th>\n",
       "      <th>horsepower</th>\n",
       "      <th>peakrpm</th>\n",
       "      <th>citympg</th>\n",
       "      <th>highwaympg</th>\n",
       "      <th>price</th>\n",
       "    </tr>\n",
       "  </thead>\n",
       "  <tbody>\n",
       "    <tr>\n",
       "      <th>0</th>\n",
       "      <td>1</td>\n",
       "      <td>3</td>\n",
       "      <td>alfa-romero giulia</td>\n",
       "      <td>gas</td>\n",
       "      <td>std</td>\n",
       "      <td>two</td>\n",
       "      <td>convertible</td>\n",
       "      <td>rwd</td>\n",
       "      <td>front</td>\n",
       "      <td>88.6</td>\n",
       "      <td>...</td>\n",
       "      <td>130</td>\n",
       "      <td>mpfi</td>\n",
       "      <td>3.47</td>\n",
       "      <td>2.68</td>\n",
       "      <td>9.0</td>\n",
       "      <td>111</td>\n",
       "      <td>5000</td>\n",
       "      <td>21</td>\n",
       "      <td>27</td>\n",
       "      <td>13495.0</td>\n",
       "    </tr>\n",
       "    <tr>\n",
       "      <th>1</th>\n",
       "      <td>2</td>\n",
       "      <td>3</td>\n",
       "      <td>alfa-romero stelvio</td>\n",
       "      <td>gas</td>\n",
       "      <td>std</td>\n",
       "      <td>two</td>\n",
       "      <td>convertible</td>\n",
       "      <td>rwd</td>\n",
       "      <td>front</td>\n",
       "      <td>88.6</td>\n",
       "      <td>...</td>\n",
       "      <td>130</td>\n",
       "      <td>mpfi</td>\n",
       "      <td>3.47</td>\n",
       "      <td>2.68</td>\n",
       "      <td>9.0</td>\n",
       "      <td>111</td>\n",
       "      <td>5000</td>\n",
       "      <td>21</td>\n",
       "      <td>27</td>\n",
       "      <td>16500.0</td>\n",
       "    </tr>\n",
       "    <tr>\n",
       "      <th>2</th>\n",
       "      <td>3</td>\n",
       "      <td>1</td>\n",
       "      <td>alfa-romero Quadrifoglio</td>\n",
       "      <td>gas</td>\n",
       "      <td>std</td>\n",
       "      <td>two</td>\n",
       "      <td>hatchback</td>\n",
       "      <td>rwd</td>\n",
       "      <td>front</td>\n",
       "      <td>94.5</td>\n",
       "      <td>...</td>\n",
       "      <td>152</td>\n",
       "      <td>mpfi</td>\n",
       "      <td>2.68</td>\n",
       "      <td>3.47</td>\n",
       "      <td>9.0</td>\n",
       "      <td>154</td>\n",
       "      <td>5000</td>\n",
       "      <td>19</td>\n",
       "      <td>26</td>\n",
       "      <td>16500.0</td>\n",
       "    </tr>\n",
       "    <tr>\n",
       "      <th>3</th>\n",
       "      <td>4</td>\n",
       "      <td>2</td>\n",
       "      <td>audi 100 ls</td>\n",
       "      <td>gas</td>\n",
       "      <td>std</td>\n",
       "      <td>four</td>\n",
       "      <td>sedan</td>\n",
       "      <td>fwd</td>\n",
       "      <td>front</td>\n",
       "      <td>99.8</td>\n",
       "      <td>...</td>\n",
       "      <td>109</td>\n",
       "      <td>mpfi</td>\n",
       "      <td>3.19</td>\n",
       "      <td>3.40</td>\n",
       "      <td>10.0</td>\n",
       "      <td>102</td>\n",
       "      <td>5500</td>\n",
       "      <td>24</td>\n",
       "      <td>30</td>\n",
       "      <td>13950.0</td>\n",
       "    </tr>\n",
       "    <tr>\n",
       "      <th>4</th>\n",
       "      <td>5</td>\n",
       "      <td>2</td>\n",
       "      <td>audi 100ls</td>\n",
       "      <td>gas</td>\n",
       "      <td>std</td>\n",
       "      <td>four</td>\n",
       "      <td>sedan</td>\n",
       "      <td>4wd</td>\n",
       "      <td>front</td>\n",
       "      <td>99.4</td>\n",
       "      <td>...</td>\n",
       "      <td>136</td>\n",
       "      <td>mpfi</td>\n",
       "      <td>3.19</td>\n",
       "      <td>3.40</td>\n",
       "      <td>8.0</td>\n",
       "      <td>115</td>\n",
       "      <td>5500</td>\n",
       "      <td>18</td>\n",
       "      <td>22</td>\n",
       "      <td>17450.0</td>\n",
       "    </tr>\n",
       "  </tbody>\n",
       "</table>\n",
       "<p>5 rows × 26 columns</p>\n",
       "</div>"
      ],
      "text/plain": [
       "   car_ID  symboling                   CarName fueltype aspiration doornumber  \\\n",
       "0       1          3        alfa-romero giulia      gas        std        two   \n",
       "1       2          3       alfa-romero stelvio      gas        std        two   \n",
       "2       3          1  alfa-romero Quadrifoglio      gas        std        two   \n",
       "3       4          2               audi 100 ls      gas        std       four   \n",
       "4       5          2                audi 100ls      gas        std       four   \n",
       "\n",
       "       carbody drivewheel enginelocation  wheelbase  ...  enginesize  \\\n",
       "0  convertible        rwd          front       88.6  ...         130   \n",
       "1  convertible        rwd          front       88.6  ...         130   \n",
       "2    hatchback        rwd          front       94.5  ...         152   \n",
       "3        sedan        fwd          front       99.8  ...         109   \n",
       "4        sedan        4wd          front       99.4  ...         136   \n",
       "\n",
       "   fuelsystem  boreratio  stroke compressionratio horsepower  peakrpm citympg  \\\n",
       "0        mpfi       3.47    2.68              9.0        111     5000      21   \n",
       "1        mpfi       3.47    2.68              9.0        111     5000      21   \n",
       "2        mpfi       2.68    3.47              9.0        154     5000      19   \n",
       "3        mpfi       3.19    3.40             10.0        102     5500      24   \n",
       "4        mpfi       3.19    3.40              8.0        115     5500      18   \n",
       "\n",
       "   highwaympg    price  \n",
       "0          27  13495.0  \n",
       "1          27  16500.0  \n",
       "2          26  16500.0  \n",
       "3          30  13950.0  \n",
       "4          22  17450.0  \n",
       "\n",
       "[5 rows x 26 columns]"
      ]
     },
     "execution_count": 43,
     "metadata": {},
     "output_type": "execute_result"
    }
   ],
   "source": [
    "data=pd.read_csv(\"carPrice_Assignment.csv\",na_values = '?')\n",
    "#打印数据维度\n",
    "print(\"Data set size:\", data.shape)\n",
    "print(data.info())\n",
    "data.head()"
   ]
  },
  {
   "cell_type": "markdown",
   "metadata": {},
   "source": [
    "## 2 数据清洗"
   ]
  },
  {
   "cell_type": "markdown",
   "metadata": {},
   "source": [
    "### 2-1 处理车辆种类"
   ]
  },
  {
   "cell_type": "code",
   "execution_count": 44,
   "metadata": {},
   "outputs": [
    {
     "name": "stdout",
     "output_type": "stream",
     "text": [
      "车辆种类种数: 147\n"
     ]
    },
    {
     "data": {
      "text/plain": [
       "array(['alfa-romero', 'audi', 'bmw', 'chevrolet', 'dodge', 'honda',\n",
       "       'isuzu', 'jaguar', 'maxda', 'mazda', 'buick', 'mercury',\n",
       "       'mitsubishi', 'Nissan', 'nissan', 'peugeot', 'plymouth', 'porsche',\n",
       "       'porcshce', 'renault', 'saab', 'subaru', 'toyota', 'toyouta',\n",
       "       'vokswagen', 'volkswagen', 'vw', 'volvo'], dtype=object)"
      ]
     },
     "execution_count": 44,
     "metadata": {},
     "output_type": "execute_result"
    },
    {
     "data": {
      "text/plain": [
       "array(['alfa-romeo', 'audi', 'bmw', 'chevrolet', 'dodge', 'honda',\n",
       "       'isuzu', 'jaguar', 'mazda', 'buick', 'mercury', 'mitsubishi',\n",
       "       'nissan', 'peugeot', 'plymouth', 'porsche', 'porcshce', 'renault',\n",
       "       'saab', 'subaru', 'toyota', 'volkswagen', 'volvo'], dtype=object)"
      ]
     },
     "execution_count": 44,
     "metadata": {},
     "output_type": "execute_result"
    }
   ],
   "source": [
    "print('车辆种类种数:', data['CarName'].unique().size)\n",
    "# 按照车辆品牌分类\n",
    "data['CarCompany']= data['CarName'].str.split(' ',expand=True)[0] \n",
    "data['CarCompany'].unique()\n",
    "# 修正拼写问题\n",
    "data['CarCompany'] = data['CarCompany'].replace({'alfa-romero':'alfa-romeo','maxda':'mazda', 'Nissan':'nissan',\n",
    "'porschce':'porsche','toyouta':'toyota','vokswagen':'volkswagen','vw':'volkswagen'})\n",
    "data['CarCompany'].unique()"
   ]
  },
  {
   "cell_type": "code",
   "execution_count": 45,
   "metadata": {},
   "outputs": [
    {
     "name": "stdout",
     "output_type": "stream",
     "text": [
      "数值型变量数目为： 15\n",
      "类别型变量数目为： 11\n"
     ]
    }
   ],
   "source": [
    "# 去除car_ID列\n",
    "data.drop(['car_ID'], axis=1, inplace=True)\n",
    "\n",
    "#整理出数值型特征和类别型特征\n",
    "all_cols = data.columns.tolist()\n",
    "numerical_cols = []\n",
    "categorical_cols = []\n",
    "\n",
    "for col in all_cols:\n",
    "    if (data[col].dtype != 'object') :\n",
    "        numerical_cols.append(col)\n",
    "    else:\n",
    "        categorical_cols.append(col)\n",
    "\n",
    "print('数值型变量数目为：',len(numerical_cols))\n",
    "print('类别型变量数目为：',len(categorical_cols))"
   ]
  },
  {
   "cell_type": "code",
   "execution_count": 46,
   "metadata": {},
   "outputs": [],
   "source": [
    "#寻找数值变量中实际应该为类别变量的特征（即并不连续分布）\n",
    "# transform_cols = []\n",
    "# for col in numerical_cols:\n",
    "#     if len(data[col].unique()) < 20:\n",
    "#         transform_cols.append(col)\n",
    "# transform_cols\n",
    "# categorical_cols.append('symboling')\n",
    "# numerical_cols.remove('symboling')\n",
    "# data['symboling'] = data['symboling'].astype(str) #更改数据类型"
   ]
  },
  {
   "cell_type": "code",
   "execution_count": 47,
   "metadata": {},
   "outputs": [
    {
     "data": {
      "text/plain": [
       "Index(['symboling', 'CarName', 'fueltype', 'aspiration', 'doornumber',\n",
       "       'carbody', 'drivewheel', 'enginelocation', 'wheelbase', 'carlength',\n",
       "       'carwidth', 'carheight', 'curbweight', 'enginetype', 'cylindernumber',\n",
       "       'enginesize', 'fuelsystem', 'boreratio', 'stroke', 'compressionratio',\n",
       "       'horsepower', 'peakrpm', 'citympg', 'highwaympg', 'price',\n",
       "       'CarCompany'],\n",
       "      dtype='object')"
      ]
     },
     "execution_count": 47,
     "metadata": {},
     "output_type": "execute_result"
    },
    {
     "data": {
      "text/html": [
       "<div>\n",
       "<style scoped>\n",
       "    .dataframe tbody tr th:only-of-type {\n",
       "        vertical-align: middle;\n",
       "    }\n",
       "\n",
       "    .dataframe tbody tr th {\n",
       "        vertical-align: top;\n",
       "    }\n",
       "\n",
       "    .dataframe thead th {\n",
       "        text-align: right;\n",
       "    }\n",
       "</style>\n",
       "<table border=\"1\" class=\"dataframe\">\n",
       "  <thead>\n",
       "    <tr style=\"text-align: right;\">\n",
       "      <th></th>\n",
       "      <th>count</th>\n",
       "      <th>unique</th>\n",
       "      <th>top</th>\n",
       "      <th>freq</th>\n",
       "    </tr>\n",
       "  </thead>\n",
       "  <tbody>\n",
       "    <tr>\n",
       "      <th>CarName</th>\n",
       "      <td>205</td>\n",
       "      <td>147</td>\n",
       "      <td>toyota corona</td>\n",
       "      <td>6</td>\n",
       "    </tr>\n",
       "    <tr>\n",
       "      <th>fueltype</th>\n",
       "      <td>205</td>\n",
       "      <td>2</td>\n",
       "      <td>gas</td>\n",
       "      <td>185</td>\n",
       "    </tr>\n",
       "    <tr>\n",
       "      <th>aspiration</th>\n",
       "      <td>205</td>\n",
       "      <td>2</td>\n",
       "      <td>std</td>\n",
       "      <td>168</td>\n",
       "    </tr>\n",
       "    <tr>\n",
       "      <th>doornumber</th>\n",
       "      <td>205</td>\n",
       "      <td>2</td>\n",
       "      <td>four</td>\n",
       "      <td>115</td>\n",
       "    </tr>\n",
       "    <tr>\n",
       "      <th>carbody</th>\n",
       "      <td>205</td>\n",
       "      <td>5</td>\n",
       "      <td>sedan</td>\n",
       "      <td>96</td>\n",
       "    </tr>\n",
       "    <tr>\n",
       "      <th>drivewheel</th>\n",
       "      <td>205</td>\n",
       "      <td>3</td>\n",
       "      <td>fwd</td>\n",
       "      <td>120</td>\n",
       "    </tr>\n",
       "    <tr>\n",
       "      <th>enginelocation</th>\n",
       "      <td>205</td>\n",
       "      <td>2</td>\n",
       "      <td>front</td>\n",
       "      <td>202</td>\n",
       "    </tr>\n",
       "    <tr>\n",
       "      <th>enginetype</th>\n",
       "      <td>205</td>\n",
       "      <td>7</td>\n",
       "      <td>ohc</td>\n",
       "      <td>148</td>\n",
       "    </tr>\n",
       "    <tr>\n",
       "      <th>cylindernumber</th>\n",
       "      <td>205</td>\n",
       "      <td>7</td>\n",
       "      <td>four</td>\n",
       "      <td>159</td>\n",
       "    </tr>\n",
       "    <tr>\n",
       "      <th>fuelsystem</th>\n",
       "      <td>205</td>\n",
       "      <td>8</td>\n",
       "      <td>mpfi</td>\n",
       "      <td>94</td>\n",
       "    </tr>\n",
       "    <tr>\n",
       "      <th>CarCompany</th>\n",
       "      <td>205</td>\n",
       "      <td>23</td>\n",
       "      <td>toyota</td>\n",
       "      <td>32</td>\n",
       "    </tr>\n",
       "  </tbody>\n",
       "</table>\n",
       "</div>"
      ],
      "text/plain": [
       "               count unique            top freq\n",
       "CarName          205    147  toyota corona    6\n",
       "fueltype         205      2            gas  185\n",
       "aspiration       205      2            std  168\n",
       "doornumber       205      2           four  115\n",
       "carbody          205      5          sedan   96\n",
       "drivewheel       205      3            fwd  120\n",
       "enginelocation   205      2          front  202\n",
       "enginetype       205      7            ohc  148\n",
       "cylindernumber   205      7           four  159\n",
       "fuelsystem       205      8           mpfi   94\n",
       "CarCompany       205     23         toyota   32"
      ]
     },
     "execution_count": 47,
     "metadata": {},
     "output_type": "execute_result"
    },
    {
     "name": "stdout",
     "output_type": "stream",
     "text": [
      "These drop_cols are: ['enginelocation']\n",
      "The new shape is : (205, 25)\n"
     ]
    },
    {
     "data": {
      "text/plain": [
       "(205, 25)"
      ]
     },
     "execution_count": 47,
     "metadata": {},
     "output_type": "execute_result"
    }
   ],
   "source": [
    "features = data\n",
    "features.columns\n",
    "#查看【类别型】特征的唯一值分布情况\n",
    "features[categorical_cols].describe(include='O').T # 'O' 来获取非数值列的统计信息\n",
    "#对于类别型特征变量中，单个类型占比超过98％以上的特征进行删除.\n",
    "freq_ = features[categorical_cols].describe(include='O').T.freq\n",
    "drop_cols = []\n",
    "for index,num in enumerate(freq_):\n",
    "    if (freq_[index] > len(data['price'])*0.98) :\n",
    "        drop_cols.append(freq_.index[index])\n",
    "print('These drop_cols are:', drop_cols)\n",
    "features = features.drop(drop_cols, axis=1)\n",
    "print('The new shape is :', features.shape)\n",
    "categorical_cols.remove('enginelocation')\n",
    "features.shape"
   ]
  },
  {
   "cell_type": "code",
   "execution_count": 48,
   "metadata": {},
   "outputs": [
    {
     "data": {
      "text/plain": [
       "['symboling']"
      ]
     },
     "execution_count": 48,
     "metadata": {},
     "output_type": "execute_result"
    }
   ],
   "source": [
    "#寻找数值变量中实际应该为类别变量的特征（即并不连续分布）\n",
    "transform_cols = []\n",
    "for col in numerical_cols:\n",
    "    if len(data[col].unique()) < 20:\n",
    "        transform_cols.append(col)\n",
    "transform_cols\n",
    "categorical_cols.append('symboling')\n",
    "numerical_cols.remove('symboling')\n",
    "data['symboling'] = data['symboling'].astype(str) #更改数据类型"
   ]
  },
  {
   "cell_type": "markdown",
   "metadata": {},
   "source": [
    "## 3 自变量处理"
   ]
  },
  {
   "cell_type": "code",
   "execution_count": 49,
   "metadata": {},
   "outputs": [
    {
     "data": {
      "text/plain": [
       "(205, 22)"
      ]
     },
     "execution_count": 49,
     "metadata": {},
     "output_type": "execute_result"
    },
    {
     "data": {
      "text/html": [
       "<div>\n",
       "<style scoped>\n",
       "    .dataframe tbody tr th:only-of-type {\n",
       "        vertical-align: middle;\n",
       "    }\n",
       "\n",
       "    .dataframe tbody tr th {\n",
       "        vertical-align: top;\n",
       "    }\n",
       "\n",
       "    .dataframe thead th {\n",
       "        text-align: right;\n",
       "    }\n",
       "</style>\n",
       "<table border=\"1\" class=\"dataframe\">\n",
       "  <thead>\n",
       "    <tr style=\"text-align: right;\">\n",
       "      <th></th>\n",
       "      <th>symboling</th>\n",
       "      <th>CarName</th>\n",
       "      <th>fueltype</th>\n",
       "      <th>aspiration</th>\n",
       "      <th>doornumber</th>\n",
       "      <th>carbody</th>\n",
       "      <th>drivewheel</th>\n",
       "      <th>enginelocation</th>\n",
       "      <th>wheelbase</th>\n",
       "      <th>enginetype</th>\n",
       "      <th>...</th>\n",
       "      <th>fuelsystem</th>\n",
       "      <th>boreratio</th>\n",
       "      <th>stroke</th>\n",
       "      <th>compressionratio</th>\n",
       "      <th>horsepower</th>\n",
       "      <th>peakrpm</th>\n",
       "      <th>highwaympg</th>\n",
       "      <th>price</th>\n",
       "      <th>CarCompany</th>\n",
       "      <th>volume</th>\n",
       "    </tr>\n",
       "  </thead>\n",
       "  <tbody>\n",
       "    <tr>\n",
       "      <th>0</th>\n",
       "      <td>3</td>\n",
       "      <td>alfa-romero giulia</td>\n",
       "      <td>gas</td>\n",
       "      <td>std</td>\n",
       "      <td>two</td>\n",
       "      <td>convertible</td>\n",
       "      <td>rwd</td>\n",
       "      <td>front</td>\n",
       "      <td>88.6</td>\n",
       "      <td>dohc</td>\n",
       "      <td>...</td>\n",
       "      <td>mpfi</td>\n",
       "      <td>3.47</td>\n",
       "      <td>2.68</td>\n",
       "      <td>9.0</td>\n",
       "      <td>111</td>\n",
       "      <td>5000</td>\n",
       "      <td>27</td>\n",
       "      <td>13495.0</td>\n",
       "      <td>alfa-romeo</td>\n",
       "      <td>528019.904</td>\n",
       "    </tr>\n",
       "    <tr>\n",
       "      <th>1</th>\n",
       "      <td>3</td>\n",
       "      <td>alfa-romero stelvio</td>\n",
       "      <td>gas</td>\n",
       "      <td>std</td>\n",
       "      <td>two</td>\n",
       "      <td>convertible</td>\n",
       "      <td>rwd</td>\n",
       "      <td>front</td>\n",
       "      <td>88.6</td>\n",
       "      <td>dohc</td>\n",
       "      <td>...</td>\n",
       "      <td>mpfi</td>\n",
       "      <td>3.47</td>\n",
       "      <td>2.68</td>\n",
       "      <td>9.0</td>\n",
       "      <td>111</td>\n",
       "      <td>5000</td>\n",
       "      <td>27</td>\n",
       "      <td>16500.0</td>\n",
       "      <td>alfa-romeo</td>\n",
       "      <td>528019.904</td>\n",
       "    </tr>\n",
       "    <tr>\n",
       "      <th>2</th>\n",
       "      <td>1</td>\n",
       "      <td>alfa-romero Quadrifoglio</td>\n",
       "      <td>gas</td>\n",
       "      <td>std</td>\n",
       "      <td>two</td>\n",
       "      <td>hatchback</td>\n",
       "      <td>rwd</td>\n",
       "      <td>front</td>\n",
       "      <td>94.5</td>\n",
       "      <td>ohcv</td>\n",
       "      <td>...</td>\n",
       "      <td>mpfi</td>\n",
       "      <td>2.68</td>\n",
       "      <td>3.47</td>\n",
       "      <td>9.0</td>\n",
       "      <td>154</td>\n",
       "      <td>5000</td>\n",
       "      <td>26</td>\n",
       "      <td>16500.0</td>\n",
       "      <td>alfa-romeo</td>\n",
       "      <td>587592.640</td>\n",
       "    </tr>\n",
       "    <tr>\n",
       "      <th>3</th>\n",
       "      <td>2</td>\n",
       "      <td>audi 100 ls</td>\n",
       "      <td>gas</td>\n",
       "      <td>std</td>\n",
       "      <td>four</td>\n",
       "      <td>sedan</td>\n",
       "      <td>fwd</td>\n",
       "      <td>front</td>\n",
       "      <td>99.8</td>\n",
       "      <td>ohc</td>\n",
       "      <td>...</td>\n",
       "      <td>mpfi</td>\n",
       "      <td>3.19</td>\n",
       "      <td>3.40</td>\n",
       "      <td>10.0</td>\n",
       "      <td>102</td>\n",
       "      <td>5500</td>\n",
       "      <td>30</td>\n",
       "      <td>13950.0</td>\n",
       "      <td>audi</td>\n",
       "      <td>634816.956</td>\n",
       "    </tr>\n",
       "    <tr>\n",
       "      <th>4</th>\n",
       "      <td>2</td>\n",
       "      <td>audi 100ls</td>\n",
       "      <td>gas</td>\n",
       "      <td>std</td>\n",
       "      <td>four</td>\n",
       "      <td>sedan</td>\n",
       "      <td>4wd</td>\n",
       "      <td>front</td>\n",
       "      <td>99.4</td>\n",
       "      <td>ohc</td>\n",
       "      <td>...</td>\n",
       "      <td>mpfi</td>\n",
       "      <td>3.19</td>\n",
       "      <td>3.40</td>\n",
       "      <td>8.0</td>\n",
       "      <td>115</td>\n",
       "      <td>5500</td>\n",
       "      <td>22</td>\n",
       "      <td>17450.0</td>\n",
       "      <td>audi</td>\n",
       "      <td>636734.832</td>\n",
       "    </tr>\n",
       "  </tbody>\n",
       "</table>\n",
       "<p>5 rows × 22 columns</p>\n",
       "</div>"
      ],
      "text/plain": [
       "  symboling                   CarName fueltype aspiration doornumber  \\\n",
       "0         3        alfa-romero giulia      gas        std        two   \n",
       "1         3       alfa-romero stelvio      gas        std        two   \n",
       "2         1  alfa-romero Quadrifoglio      gas        std        two   \n",
       "3         2               audi 100 ls      gas        std       four   \n",
       "4         2                audi 100ls      gas        std       four   \n",
       "\n",
       "       carbody drivewheel enginelocation  wheelbase enginetype  ...  \\\n",
       "0  convertible        rwd          front       88.6       dohc  ...   \n",
       "1  convertible        rwd          front       88.6       dohc  ...   \n",
       "2    hatchback        rwd          front       94.5       ohcv  ...   \n",
       "3        sedan        fwd          front       99.8        ohc  ...   \n",
       "4        sedan        4wd          front       99.4        ohc  ...   \n",
       "\n",
       "  fuelsystem  boreratio stroke  compressionratio  horsepower  peakrpm  \\\n",
       "0       mpfi       3.47   2.68               9.0         111     5000   \n",
       "1       mpfi       3.47   2.68               9.0         111     5000   \n",
       "2       mpfi       2.68   3.47               9.0         154     5000   \n",
       "3       mpfi       3.19   3.40              10.0         102     5500   \n",
       "4       mpfi       3.19   3.40               8.0         115     5500   \n",
       "\n",
       "   highwaympg    price  CarCompany      volume  \n",
       "0          27  13495.0  alfa-romeo  528019.904  \n",
       "1          27  16500.0  alfa-romeo  528019.904  \n",
       "2          26  16500.0  alfa-romeo  587592.640  \n",
       "3          30  13950.0        audi  634816.956  \n",
       "4          22  17450.0        audi  636734.832  \n",
       "\n",
       "[5 rows x 22 columns]"
      ]
     },
     "execution_count": 49,
     "metadata": {},
     "output_type": "execute_result"
    }
   ],
   "source": [
    "data['volume'] = data.carlength * data.carwidth * data.carheight\n",
    "data.drop(['carwidth', 'carlength', 'carheight', \n",
    "           'curbweight', 'citympg'], \n",
    "          axis = 1, # 1 for columns\n",
    "          inplace = True) \n",
    "data.shape\n",
    "numerical_cols.remove('carwidth')\n",
    "numerical_cols.remove('carlength')\n",
    "numerical_cols.remove('carheight')\n",
    "numerical_cols.remove('curbweight')\n",
    "numerical_cols.remove('citympg')\n",
    "numerical_cols.append('volume')\n",
    "data.head(5)"
   ]
  },
  {
   "cell_type": "code",
   "execution_count": 50,
   "metadata": {},
   "outputs": [
    {
     "data": {
      "text/plain": [
       "symboling             int64\n",
       "CarName              object\n",
       "fueltype             object\n",
       "aspiration           object\n",
       "doornumber           object\n",
       "carbody              object\n",
       "drivewheel           object\n",
       "wheelbase           float64\n",
       "carlength           float64\n",
       "carwidth            float64\n",
       "carheight           float64\n",
       "curbweight            int64\n",
       "enginetype           object\n",
       "cylindernumber       object\n",
       "enginesize            int64\n",
       "fuelsystem           object\n",
       "boreratio           float64\n",
       "stroke              float64\n",
       "compressionratio    float64\n",
       "horsepower            int64\n",
       "peakrpm               int64\n",
       "citympg               int64\n",
       "highwaympg            int64\n",
       "price               float64\n",
       "CarCompany           object\n",
       "dtype: object"
      ]
     },
     "execution_count": 50,
     "metadata": {},
     "output_type": "execute_result"
    },
    {
     "data": {
      "text/plain": [
       "(205, 17)"
      ]
     },
     "execution_count": 50,
     "metadata": {},
     "output_type": "execute_result"
    }
   ],
   "source": [
    "# 挑选最终的自变量\n",
    "features.dtypes\n",
    "\n",
    "sig_col = ['wheelbase','enginesize','boreratio','stroke','horsepower',\n",
    "           'peakrpm','volume','highwaympg','fueltype','aspiration','carbody',\n",
    "           'drivewheel','enginetype','cylindernumber','fuelsystem','CarCompany','symboling']\n",
    "sig_data = data[sig_col]\n",
    "#数据分为 数字型变量数据集 和分类型数据集\n",
    "sig_num = ['wheelbase','enginesize','boreratio','stroke',\n",
    "           'horsepower','peakrpm','volume','highwaympg']\n",
    "sig_cat = ['fueltype','aspiration','carbody','drivewheel',\n",
    "           'enginetype','cylindernumber','fuelsystem','CarCompany','symboling']\n",
    "sig_data.shape"
   ]
  },
  {
   "cell_type": "markdown",
   "metadata": {},
   "source": [
    "### 3-1 数值型数据标准化"
   ]
  },
  {
   "cell_type": "code",
   "execution_count": 51,
   "metadata": {},
   "outputs": [
    {
     "name": "stdout",
     "output_type": "stream",
     "text": [
      "需要归一化的变量有：['wheelbase', 'enginesize', 'boreratio', 'stroke', 'horsepower', 'peakrpm', 'volume', 'highwaympg']\n",
      "In total: (205, 17)\n"
     ]
    },
    {
     "data": {
      "text/html": [
       "<div>\n",
       "<style scoped>\n",
       "    .dataframe tbody tr th:only-of-type {\n",
       "        vertical-align: middle;\n",
       "    }\n",
       "\n",
       "    .dataframe tbody tr th {\n",
       "        vertical-align: top;\n",
       "    }\n",
       "\n",
       "    .dataframe thead th {\n",
       "        text-align: right;\n",
       "    }\n",
       "</style>\n",
       "<table border=\"1\" class=\"dataframe\">\n",
       "  <thead>\n",
       "    <tr style=\"text-align: right;\">\n",
       "      <th></th>\n",
       "      <th>wheelbase</th>\n",
       "      <th>enginesize</th>\n",
       "      <th>boreratio</th>\n",
       "      <th>stroke</th>\n",
       "      <th>horsepower</th>\n",
       "      <th>peakrpm</th>\n",
       "      <th>volume</th>\n",
       "      <th>highwaympg</th>\n",
       "      <th>fueltype</th>\n",
       "      <th>aspiration</th>\n",
       "      <th>carbody</th>\n",
       "      <th>drivewheel</th>\n",
       "      <th>enginetype</th>\n",
       "      <th>cylindernumber</th>\n",
       "      <th>fuelsystem</th>\n",
       "      <th>CarCompany</th>\n",
       "      <th>symboling</th>\n",
       "    </tr>\n",
       "  </thead>\n",
       "  <tbody>\n",
       "    <tr>\n",
       "      <th>0</th>\n",
       "      <td>-1.686643</td>\n",
       "      <td>0.074267</td>\n",
       "      <td>0.517804</td>\n",
       "      <td>-1.834886</td>\n",
       "      <td>0.174057</td>\n",
       "      <td>-0.262318</td>\n",
       "      <td>-1.141401</td>\n",
       "      <td>-0.544725</td>\n",
       "      <td>gas</td>\n",
       "      <td>std</td>\n",
       "      <td>convertible</td>\n",
       "      <td>rwd</td>\n",
       "      <td>dohc</td>\n",
       "      <td>four</td>\n",
       "      <td>mpfi</td>\n",
       "      <td>alfa-romeo</td>\n",
       "      <td>3</td>\n",
       "    </tr>\n",
       "    <tr>\n",
       "      <th>1</th>\n",
       "      <td>-1.686643</td>\n",
       "      <td>0.074267</td>\n",
       "      <td>0.517804</td>\n",
       "      <td>-1.834886</td>\n",
       "      <td>0.174057</td>\n",
       "      <td>-0.262318</td>\n",
       "      <td>-1.141401</td>\n",
       "      <td>-0.544725</td>\n",
       "      <td>gas</td>\n",
       "      <td>std</td>\n",
       "      <td>convertible</td>\n",
       "      <td>rwd</td>\n",
       "      <td>dohc</td>\n",
       "      <td>four</td>\n",
       "      <td>mpfi</td>\n",
       "      <td>alfa-romeo</td>\n",
       "      <td>3</td>\n",
       "    </tr>\n",
       "    <tr>\n",
       "      <th>2</th>\n",
       "      <td>-0.706865</td>\n",
       "      <td>0.602571</td>\n",
       "      <td>-2.399008</td>\n",
       "      <td>0.684271</td>\n",
       "      <td>1.261448</td>\n",
       "      <td>-0.262318</td>\n",
       "      <td>-0.391712</td>\n",
       "      <td>-0.689938</td>\n",
       "      <td>gas</td>\n",
       "      <td>std</td>\n",
       "      <td>hatchback</td>\n",
       "      <td>rwd</td>\n",
       "      <td>ohcv</td>\n",
       "      <td>six</td>\n",
       "      <td>mpfi</td>\n",
       "      <td>alfa-romeo</td>\n",
       "      <td>1</td>\n",
       "    </tr>\n",
       "    <tr>\n",
       "      <th>3</th>\n",
       "      <td>0.173274</td>\n",
       "      <td>-0.430023</td>\n",
       "      <td>-0.516003</td>\n",
       "      <td>0.461055</td>\n",
       "      <td>-0.053537</td>\n",
       "      <td>0.785932</td>\n",
       "      <td>0.202580</td>\n",
       "      <td>-0.109087</td>\n",
       "      <td>gas</td>\n",
       "      <td>std</td>\n",
       "      <td>sedan</td>\n",
       "      <td>fwd</td>\n",
       "      <td>ohc</td>\n",
       "      <td>four</td>\n",
       "      <td>mpfi</td>\n",
       "      <td>audi</td>\n",
       "      <td>2</td>\n",
       "    </tr>\n",
       "    <tr>\n",
       "      <th>4</th>\n",
       "      <td>0.106848</td>\n",
       "      <td>0.218350</td>\n",
       "      <td>-0.516003</td>\n",
       "      <td>0.461055</td>\n",
       "      <td>0.275209</td>\n",
       "      <td>0.785932</td>\n",
       "      <td>0.226716</td>\n",
       "      <td>-1.270789</td>\n",
       "      <td>gas</td>\n",
       "      <td>std</td>\n",
       "      <td>sedan</td>\n",
       "      <td>4wd</td>\n",
       "      <td>ohc</td>\n",
       "      <td>five</td>\n",
       "      <td>mpfi</td>\n",
       "      <td>audi</td>\n",
       "      <td>2</td>\n",
       "    </tr>\n",
       "  </tbody>\n",
       "</table>\n",
       "</div>"
      ],
      "text/plain": [
       "   wheelbase  enginesize  boreratio    stroke  horsepower   peakrpm    volume  \\\n",
       "0  -1.686643    0.074267   0.517804 -1.834886    0.174057 -0.262318 -1.141401   \n",
       "1  -1.686643    0.074267   0.517804 -1.834886    0.174057 -0.262318 -1.141401   \n",
       "2  -0.706865    0.602571  -2.399008  0.684271    1.261448 -0.262318 -0.391712   \n",
       "3   0.173274   -0.430023  -0.516003  0.461055   -0.053537  0.785932  0.202580   \n",
       "4   0.106848    0.218350  -0.516003  0.461055    0.275209  0.785932  0.226716   \n",
       "\n",
       "   highwaympg fueltype aspiration      carbody drivewheel enginetype  \\\n",
       "0   -0.544725      gas        std  convertible        rwd       dohc   \n",
       "1   -0.544725      gas        std  convertible        rwd       dohc   \n",
       "2   -0.689938      gas        std    hatchback        rwd       ohcv   \n",
       "3   -0.109087      gas        std        sedan        fwd        ohc   \n",
       "4   -1.270789      gas        std        sedan        4wd        ohc   \n",
       "\n",
       "  cylindernumber fuelsystem  CarCompany symboling  \n",
       "0           four       mpfi  alfa-romeo         3  \n",
       "1           four       mpfi  alfa-romeo         3  \n",
       "2            six       mpfi  alfa-romeo         1  \n",
       "3           four       mpfi        audi         2  \n",
       "4           five       mpfi        audi         2  "
      ]
     },
     "execution_count": 51,
     "metadata": {},
     "output_type": "execute_result"
    }
   ],
   "source": [
    "# 数值型 标准化\n",
    "std_features=sig_data\n",
    "# scale the data\n",
    "print(\"需要归一化的变量有：\"+str(sig_num))\n",
    "for feat in sig_num:\n",
    "    feat_mean=sig_data[feat].mean()\n",
    "    feat_std=sig_data[feat].std()\n",
    "    sig_data[feat]=(sig_data[feat]-feat_mean)/feat_std\n",
    "# glimpse\n",
    "print('In total:', std_features.shape)\n",
    "std_features.head()\n"
   ]
  },
  {
   "cell_type": "markdown",
   "metadata": {},
   "source": [
    "### 3-2 类别型数据编码"
   ]
  },
  {
   "cell_type": "code",
   "execution_count": 52,
   "metadata": {},
   "outputs": [
    {
     "name": "stdout",
     "output_type": "stream",
     "text": [
      "经过onehot编码后的特征维度为 : (205, 71)\n",
      "In total: (205, 71)\n"
     ]
    },
    {
     "data": {
      "text/html": [
       "<div>\n",
       "<style scoped>\n",
       "    .dataframe tbody tr th:only-of-type {\n",
       "        vertical-align: middle;\n",
       "    }\n",
       "\n",
       "    .dataframe tbody tr th {\n",
       "        vertical-align: top;\n",
       "    }\n",
       "\n",
       "    .dataframe thead th {\n",
       "        text-align: right;\n",
       "    }\n",
       "</style>\n",
       "<table border=\"1\" class=\"dataframe\">\n",
       "  <thead>\n",
       "    <tr style=\"text-align: right;\">\n",
       "      <th></th>\n",
       "      <th>wheelbase</th>\n",
       "      <th>enginesize</th>\n",
       "      <th>boreratio</th>\n",
       "      <th>stroke</th>\n",
       "      <th>horsepower</th>\n",
       "      <th>peakrpm</th>\n",
       "      <th>volume</th>\n",
       "      <th>highwaympg</th>\n",
       "      <th>fueltype_diesel</th>\n",
       "      <th>fueltype_gas</th>\n",
       "      <th>...</th>\n",
       "      <th>CarCompany_subaru</th>\n",
       "      <th>CarCompany_toyota</th>\n",
       "      <th>CarCompany_volkswagen</th>\n",
       "      <th>CarCompany_volvo</th>\n",
       "      <th>symboling_-1</th>\n",
       "      <th>symboling_-2</th>\n",
       "      <th>symboling_0</th>\n",
       "      <th>symboling_1</th>\n",
       "      <th>symboling_2</th>\n",
       "      <th>symboling_3</th>\n",
       "    </tr>\n",
       "  </thead>\n",
       "  <tbody>\n",
       "    <tr>\n",
       "      <th>0</th>\n",
       "      <td>-1.686643</td>\n",
       "      <td>0.074267</td>\n",
       "      <td>0.517804</td>\n",
       "      <td>-1.834886</td>\n",
       "      <td>0.174057</td>\n",
       "      <td>-0.262318</td>\n",
       "      <td>-1.141401</td>\n",
       "      <td>-0.544725</td>\n",
       "      <td>False</td>\n",
       "      <td>True</td>\n",
       "      <td>...</td>\n",
       "      <td>False</td>\n",
       "      <td>False</td>\n",
       "      <td>False</td>\n",
       "      <td>False</td>\n",
       "      <td>False</td>\n",
       "      <td>False</td>\n",
       "      <td>False</td>\n",
       "      <td>False</td>\n",
       "      <td>False</td>\n",
       "      <td>True</td>\n",
       "    </tr>\n",
       "    <tr>\n",
       "      <th>1</th>\n",
       "      <td>-1.686643</td>\n",
       "      <td>0.074267</td>\n",
       "      <td>0.517804</td>\n",
       "      <td>-1.834886</td>\n",
       "      <td>0.174057</td>\n",
       "      <td>-0.262318</td>\n",
       "      <td>-1.141401</td>\n",
       "      <td>-0.544725</td>\n",
       "      <td>False</td>\n",
       "      <td>True</td>\n",
       "      <td>...</td>\n",
       "      <td>False</td>\n",
       "      <td>False</td>\n",
       "      <td>False</td>\n",
       "      <td>False</td>\n",
       "      <td>False</td>\n",
       "      <td>False</td>\n",
       "      <td>False</td>\n",
       "      <td>False</td>\n",
       "      <td>False</td>\n",
       "      <td>True</td>\n",
       "    </tr>\n",
       "    <tr>\n",
       "      <th>2</th>\n",
       "      <td>-0.706865</td>\n",
       "      <td>0.602571</td>\n",
       "      <td>-2.399008</td>\n",
       "      <td>0.684271</td>\n",
       "      <td>1.261448</td>\n",
       "      <td>-0.262318</td>\n",
       "      <td>-0.391712</td>\n",
       "      <td>-0.689938</td>\n",
       "      <td>False</td>\n",
       "      <td>True</td>\n",
       "      <td>...</td>\n",
       "      <td>False</td>\n",
       "      <td>False</td>\n",
       "      <td>False</td>\n",
       "      <td>False</td>\n",
       "      <td>False</td>\n",
       "      <td>False</td>\n",
       "      <td>False</td>\n",
       "      <td>True</td>\n",
       "      <td>False</td>\n",
       "      <td>False</td>\n",
       "    </tr>\n",
       "    <tr>\n",
       "      <th>3</th>\n",
       "      <td>0.173274</td>\n",
       "      <td>-0.430023</td>\n",
       "      <td>-0.516003</td>\n",
       "      <td>0.461055</td>\n",
       "      <td>-0.053537</td>\n",
       "      <td>0.785932</td>\n",
       "      <td>0.202580</td>\n",
       "      <td>-0.109087</td>\n",
       "      <td>False</td>\n",
       "      <td>True</td>\n",
       "      <td>...</td>\n",
       "      <td>False</td>\n",
       "      <td>False</td>\n",
       "      <td>False</td>\n",
       "      <td>False</td>\n",
       "      <td>False</td>\n",
       "      <td>False</td>\n",
       "      <td>False</td>\n",
       "      <td>False</td>\n",
       "      <td>True</td>\n",
       "      <td>False</td>\n",
       "    </tr>\n",
       "    <tr>\n",
       "      <th>4</th>\n",
       "      <td>0.106848</td>\n",
       "      <td>0.218350</td>\n",
       "      <td>-0.516003</td>\n",
       "      <td>0.461055</td>\n",
       "      <td>0.275209</td>\n",
       "      <td>0.785932</td>\n",
       "      <td>0.226716</td>\n",
       "      <td>-1.270789</td>\n",
       "      <td>False</td>\n",
       "      <td>True</td>\n",
       "      <td>...</td>\n",
       "      <td>False</td>\n",
       "      <td>False</td>\n",
       "      <td>False</td>\n",
       "      <td>False</td>\n",
       "      <td>False</td>\n",
       "      <td>False</td>\n",
       "      <td>False</td>\n",
       "      <td>False</td>\n",
       "      <td>True</td>\n",
       "      <td>False</td>\n",
       "    </tr>\n",
       "  </tbody>\n",
       "</table>\n",
       "<p>5 rows × 71 columns</p>\n",
       "</div>"
      ],
      "text/plain": [
       "   wheelbase  enginesize  boreratio    stroke  horsepower   peakrpm    volume  \\\n",
       "0  -1.686643    0.074267   0.517804 -1.834886    0.174057 -0.262318 -1.141401   \n",
       "1  -1.686643    0.074267   0.517804 -1.834886    0.174057 -0.262318 -1.141401   \n",
       "2  -0.706865    0.602571  -2.399008  0.684271    1.261448 -0.262318 -0.391712   \n",
       "3   0.173274   -0.430023  -0.516003  0.461055   -0.053537  0.785932  0.202580   \n",
       "4   0.106848    0.218350  -0.516003  0.461055    0.275209  0.785932  0.226716   \n",
       "\n",
       "   highwaympg  fueltype_diesel  fueltype_gas  ...  CarCompany_subaru  \\\n",
       "0   -0.544725            False          True  ...              False   \n",
       "1   -0.544725            False          True  ...              False   \n",
       "2   -0.689938            False          True  ...              False   \n",
       "3   -0.109087            False          True  ...              False   \n",
       "4   -1.270789            False          True  ...              False   \n",
       "\n",
       "   CarCompany_toyota  CarCompany_volkswagen  CarCompany_volvo  symboling_-1  \\\n",
       "0              False                  False             False         False   \n",
       "1              False                  False             False         False   \n",
       "2              False                  False             False         False   \n",
       "3              False                  False             False         False   \n",
       "4              False                  False             False         False   \n",
       "\n",
       "   symboling_-2  symboling_0  symboling_1  symboling_2  symboling_3  \n",
       "0         False        False        False        False         True  \n",
       "1         False        False        False        False         True  \n",
       "2         False        False         True        False        False  \n",
       "3         False        False        False         True        False  \n",
       "4         False        False        False         True        False  \n",
       "\n",
       "[5 rows x 71 columns]"
      ]
     },
     "execution_count": 52,
     "metadata": {},
     "output_type": "execute_result"
    }
   ],
   "source": [
    "std_features = std_features[sig_num+sig_cat]\n",
    "std_features = pd.get_dummies(std_features,columns=sig_cat).reset_index(drop=True)\n",
    "print(\"经过onehot编码后的特征维度为 :\", std_features.shape)\n",
    "# new dataset\n",
    "print('In total:', std_features.shape)\n",
    "std_features.head()"
   ]
  },
  {
   "cell_type": "markdown",
   "metadata": {},
   "source": [
    "## 任务1 因变量处理"
   ]
  },
  {
   "cell_type": "code",
   "execution_count": 53,
   "metadata": {},
   "outputs": [
    {
     "data": {
      "text/html": [
       "<div>\n",
       "<style scoped>\n",
       "    .dataframe tbody tr th:only-of-type {\n",
       "        vertical-align: middle;\n",
       "    }\n",
       "\n",
       "    .dataframe tbody tr th {\n",
       "        vertical-align: top;\n",
       "    }\n",
       "\n",
       "    .dataframe thead th {\n",
       "        text-align: right;\n",
       "    }\n",
       "</style>\n",
       "<table border=\"1\" class=\"dataframe\">\n",
       "  <thead>\n",
       "    <tr style=\"text-align: right;\">\n",
       "      <th></th>\n",
       "      <th>symboling</th>\n",
       "      <th>CarName</th>\n",
       "      <th>fueltype</th>\n",
       "      <th>aspiration</th>\n",
       "      <th>doornumber</th>\n",
       "      <th>carbody</th>\n",
       "      <th>drivewheel</th>\n",
       "      <th>enginelocation</th>\n",
       "      <th>wheelbase</th>\n",
       "      <th>enginetype</th>\n",
       "      <th>...</th>\n",
       "      <th>boreratio</th>\n",
       "      <th>stroke</th>\n",
       "      <th>compressionratio</th>\n",
       "      <th>horsepower</th>\n",
       "      <th>peakrpm</th>\n",
       "      <th>highwaympg</th>\n",
       "      <th>price</th>\n",
       "      <th>CarCompany</th>\n",
       "      <th>volume</th>\n",
       "      <th>price_category</th>\n",
       "    </tr>\n",
       "  </thead>\n",
       "  <tbody>\n",
       "    <tr>\n",
       "      <th>0</th>\n",
       "      <td>3</td>\n",
       "      <td>alfa-romero giulia</td>\n",
       "      <td>gas</td>\n",
       "      <td>std</td>\n",
       "      <td>two</td>\n",
       "      <td>convertible</td>\n",
       "      <td>rwd</td>\n",
       "      <td>front</td>\n",
       "      <td>88.6</td>\n",
       "      <td>dohc</td>\n",
       "      <td>...</td>\n",
       "      <td>3.47</td>\n",
       "      <td>2.68</td>\n",
       "      <td>9.0</td>\n",
       "      <td>111</td>\n",
       "      <td>5000</td>\n",
       "      <td>27</td>\n",
       "      <td>13495</td>\n",
       "      <td>alfa-romeo</td>\n",
       "      <td>528019.904</td>\n",
       "      <td>ordinary</td>\n",
       "    </tr>\n",
       "    <tr>\n",
       "      <th>1</th>\n",
       "      <td>3</td>\n",
       "      <td>alfa-romero stelvio</td>\n",
       "      <td>gas</td>\n",
       "      <td>std</td>\n",
       "      <td>two</td>\n",
       "      <td>convertible</td>\n",
       "      <td>rwd</td>\n",
       "      <td>front</td>\n",
       "      <td>88.6</td>\n",
       "      <td>dohc</td>\n",
       "      <td>...</td>\n",
       "      <td>3.47</td>\n",
       "      <td>2.68</td>\n",
       "      <td>9.0</td>\n",
       "      <td>111</td>\n",
       "      <td>5000</td>\n",
       "      <td>27</td>\n",
       "      <td>16500</td>\n",
       "      <td>alfa-romeo</td>\n",
       "      <td>528019.904</td>\n",
       "      <td>ordinary</td>\n",
       "    </tr>\n",
       "    <tr>\n",
       "      <th>2</th>\n",
       "      <td>1</td>\n",
       "      <td>alfa-romero Quadrifoglio</td>\n",
       "      <td>gas</td>\n",
       "      <td>std</td>\n",
       "      <td>two</td>\n",
       "      <td>hatchback</td>\n",
       "      <td>rwd</td>\n",
       "      <td>front</td>\n",
       "      <td>94.5</td>\n",
       "      <td>ohcv</td>\n",
       "      <td>...</td>\n",
       "      <td>2.68</td>\n",
       "      <td>3.47</td>\n",
       "      <td>9.0</td>\n",
       "      <td>154</td>\n",
       "      <td>5000</td>\n",
       "      <td>26</td>\n",
       "      <td>16500</td>\n",
       "      <td>alfa-romeo</td>\n",
       "      <td>587592.640</td>\n",
       "      <td>ordinary</td>\n",
       "    </tr>\n",
       "    <tr>\n",
       "      <th>3</th>\n",
       "      <td>2</td>\n",
       "      <td>audi 100 ls</td>\n",
       "      <td>gas</td>\n",
       "      <td>std</td>\n",
       "      <td>four</td>\n",
       "      <td>sedan</td>\n",
       "      <td>fwd</td>\n",
       "      <td>front</td>\n",
       "      <td>99.8</td>\n",
       "      <td>ohc</td>\n",
       "      <td>...</td>\n",
       "      <td>3.19</td>\n",
       "      <td>3.40</td>\n",
       "      <td>10.0</td>\n",
       "      <td>102</td>\n",
       "      <td>5500</td>\n",
       "      <td>30</td>\n",
       "      <td>13950</td>\n",
       "      <td>audi</td>\n",
       "      <td>634816.956</td>\n",
       "      <td>ordinary</td>\n",
       "    </tr>\n",
       "    <tr>\n",
       "      <th>4</th>\n",
       "      <td>2</td>\n",
       "      <td>audi 100ls</td>\n",
       "      <td>gas</td>\n",
       "      <td>std</td>\n",
       "      <td>four</td>\n",
       "      <td>sedan</td>\n",
       "      <td>4wd</td>\n",
       "      <td>front</td>\n",
       "      <td>99.4</td>\n",
       "      <td>ohc</td>\n",
       "      <td>...</td>\n",
       "      <td>3.19</td>\n",
       "      <td>3.40</td>\n",
       "      <td>8.0</td>\n",
       "      <td>115</td>\n",
       "      <td>5500</td>\n",
       "      <td>22</td>\n",
       "      <td>17450</td>\n",
       "      <td>audi</td>\n",
       "      <td>636734.832</td>\n",
       "      <td>ordinary</td>\n",
       "    </tr>\n",
       "  </tbody>\n",
       "</table>\n",
       "<p>5 rows × 23 columns</p>\n",
       "</div>"
      ],
      "text/plain": [
       "  symboling                   CarName fueltype aspiration doornumber  \\\n",
       "0         3        alfa-romero giulia      gas        std        two   \n",
       "1         3       alfa-romero stelvio      gas        std        two   \n",
       "2         1  alfa-romero Quadrifoglio      gas        std        two   \n",
       "3         2               audi 100 ls      gas        std       four   \n",
       "4         2                audi 100ls      gas        std       four   \n",
       "\n",
       "       carbody drivewheel enginelocation  wheelbase enginetype  ... boreratio  \\\n",
       "0  convertible        rwd          front       88.6       dohc  ...      3.47   \n",
       "1  convertible        rwd          front       88.6       dohc  ...      3.47   \n",
       "2    hatchback        rwd          front       94.5       ohcv  ...      2.68   \n",
       "3        sedan        fwd          front       99.8        ohc  ...      3.19   \n",
       "4        sedan        4wd          front       99.4        ohc  ...      3.19   \n",
       "\n",
       "   stroke compressionratio  horsepower  peakrpm  highwaympg  price  \\\n",
       "0    2.68              9.0         111     5000          27  13495   \n",
       "1    2.68              9.0         111     5000          27  16500   \n",
       "2    3.47              9.0         154     5000          26  16500   \n",
       "3    3.40             10.0         102     5500          30  13950   \n",
       "4    3.40              8.0         115     5500          22  17450   \n",
       "\n",
       "   CarCompany      volume  price_category  \n",
       "0  alfa-romeo  528019.904        ordinary  \n",
       "1  alfa-romeo  528019.904        ordinary  \n",
       "2  alfa-romeo  587592.640        ordinary  \n",
       "3        audi  634816.956        ordinary  \n",
       "4        audi  636734.832        ordinary  \n",
       "\n",
       "[5 rows x 23 columns]"
      ]
     },
     "execution_count": 53,
     "metadata": {},
     "output_type": "execute_result"
    },
    {
     "data": {
      "text/plain": [
       "price_category\n",
       "cheap        95\n",
       "ordinary     86\n",
       "expensive    24\n",
       "Name: count, dtype: int64"
      ]
     },
     "execution_count": 53,
     "metadata": {},
     "output_type": "execute_result"
    }
   ],
   "source": [
    "# 自定义指标将price转换为一个分类指标，例如数据分为高/低两种价格或高/中/低三种价格。\n",
    "data['price'] = data['price'].astype('int')\n",
    "data_temp = data.copy()\n",
    "price_mean = data_temp.groupby(['CarCompany'])['price'].mean()\n",
    "data_temp = data_temp.merge(price_mean.reset_index(),how='left',on= 'CarCompany')\n",
    "bins = [0,10000,20000,40000]\n",
    "label = ['cheap','ordinary','expensive']\n",
    "data['price_category'] = pd.cut(data_temp['price_y'],bins,right=False,labels=label)\n",
    "data.head()\n",
    "data['price_category'].value_counts()\n"
   ]
  },
  {
   "cell_type": "code",
   "execution_count": 54,
   "metadata": {},
   "outputs": [
    {
     "data": {
      "text/plain": [
       "price_category\n",
       "cheap        95\n",
       "ordinary     86\n",
       "expensive    24\n",
       "Name: count, dtype: int64"
      ]
     },
     "execution_count": 54,
     "metadata": {},
     "output_type": "execute_result"
    }
   ],
   "source": [
    "data['price_category'].value_counts()"
   ]
  },
  {
   "cell_type": "markdown",
   "metadata": {},
   "source": [
    "## 任务2 分类模型"
   ]
  },
  {
   "cell_type": "code",
   "execution_count": 55,
   "metadata": {},
   "outputs": [],
   "source": [
    "from sklearn.ensemble import RandomForestClassifier\n",
    "from sklearn.tree import DecisionTreeClassifier\n",
    "from sklearn.metrics import confusion_matrix,accuracy_score,f1_score,precision_score,recall_score,classification_report\n",
    "from collections import OrderedDict\n"
   ]
  },
  {
   "cell_type": "code",
   "execution_count": 56,
   "metadata": {},
   "outputs": [],
   "source": [
    "X = std_features\n",
    "Y = data['price_category']\n",
    "random_state = 1111"
   ]
  },
  {
   "cell_type": "code",
   "execution_count": 57,
   "metadata": {},
   "outputs": [],
   "source": [
    "#划分为训练集和测试集\n",
    "X_train,X_test,Y_train,Y_test=train_test_split(X,Y,random_state=random_state) "
   ]
  },
  {
   "cell_type": "code",
   "execution_count": 58,
   "metadata": {},
   "outputs": [],
   "source": [
    "def feature_importance(importance,feature_names,figname,color='red',height=1):\n",
    "  plt.figure()\n",
    "  Index=np.argsort(importance)[-30:] # 只画出importance最大的30个feature\n",
    "  plt.xlim(0, importance.max())\n",
    "  plt.barh(y=np.arange(len(Index)),#条形图\n",
    "           width=importance[Index],\n",
    "           left=0,color=color,\n",
    "           height=height,edgecolor='k',    \n",
    "           tick_label=feature_names[Index])\n",
    "  plt.title(figname)\n",
    "  plt.tight_layout() # 自动调整子图参数\n",
    "  plt.show()"
   ]
  },
  {
   "cell_type": "markdown",
   "metadata": {},
   "source": [
    "### 任务2-1 决策树"
   ]
  },
  {
   "cell_type": "code",
   "execution_count": 59,
   "metadata": {},
   "outputs": [
    {
     "data": {
      "text/html": [
       "<style>#sk-container-id-5 {color: black;}#sk-container-id-5 pre{padding: 0;}#sk-container-id-5 div.sk-toggleable {background-color: white;}#sk-container-id-5 label.sk-toggleable__label {cursor: pointer;display: block;width: 100%;margin-bottom: 0;padding: 0.3em;box-sizing: border-box;text-align: center;}#sk-container-id-5 label.sk-toggleable__label-arrow:before {content: \"▸\";float: left;margin-right: 0.25em;color: #696969;}#sk-container-id-5 label.sk-toggleable__label-arrow:hover:before {color: black;}#sk-container-id-5 div.sk-estimator:hover label.sk-toggleable__label-arrow:before {color: black;}#sk-container-id-5 div.sk-toggleable__content {max-height: 0;max-width: 0;overflow: hidden;text-align: left;background-color: #f0f8ff;}#sk-container-id-5 div.sk-toggleable__content pre {margin: 0.2em;color: black;border-radius: 0.25em;background-color: #f0f8ff;}#sk-container-id-5 input.sk-toggleable__control:checked~div.sk-toggleable__content {max-height: 200px;max-width: 100%;overflow: auto;}#sk-container-id-5 input.sk-toggleable__control:checked~label.sk-toggleable__label-arrow:before {content: \"▾\";}#sk-container-id-5 div.sk-estimator input.sk-toggleable__control:checked~label.sk-toggleable__label {background-color: #d4ebff;}#sk-container-id-5 div.sk-label input.sk-toggleable__control:checked~label.sk-toggleable__label {background-color: #d4ebff;}#sk-container-id-5 input.sk-hidden--visually {border: 0;clip: rect(1px 1px 1px 1px);clip: rect(1px, 1px, 1px, 1px);height: 1px;margin: -1px;overflow: hidden;padding: 0;position: absolute;width: 1px;}#sk-container-id-5 div.sk-estimator {font-family: monospace;background-color: #f0f8ff;border: 1px dotted black;border-radius: 0.25em;box-sizing: border-box;margin-bottom: 0.5em;}#sk-container-id-5 div.sk-estimator:hover {background-color: #d4ebff;}#sk-container-id-5 div.sk-parallel-item::after {content: \"\";width: 100%;border-bottom: 1px solid gray;flex-grow: 1;}#sk-container-id-5 div.sk-label:hover label.sk-toggleable__label {background-color: #d4ebff;}#sk-container-id-5 div.sk-serial::before {content: \"\";position: absolute;border-left: 1px solid gray;box-sizing: border-box;top: 0;bottom: 0;left: 50%;z-index: 0;}#sk-container-id-5 div.sk-serial {display: flex;flex-direction: column;align-items: center;background-color: white;padding-right: 0.2em;padding-left: 0.2em;position: relative;}#sk-container-id-5 div.sk-item {position: relative;z-index: 1;}#sk-container-id-5 div.sk-parallel {display: flex;align-items: stretch;justify-content: center;background-color: white;position: relative;}#sk-container-id-5 div.sk-item::before, #sk-container-id-5 div.sk-parallel-item::before {content: \"\";position: absolute;border-left: 1px solid gray;box-sizing: border-box;top: 0;bottom: 0;left: 50%;z-index: -1;}#sk-container-id-5 div.sk-parallel-item {display: flex;flex-direction: column;z-index: 1;position: relative;background-color: white;}#sk-container-id-5 div.sk-parallel-item:first-child::after {align-self: flex-end;width: 50%;}#sk-container-id-5 div.sk-parallel-item:last-child::after {align-self: flex-start;width: 50%;}#sk-container-id-5 div.sk-parallel-item:only-child::after {width: 0;}#sk-container-id-5 div.sk-dashed-wrapped {border: 1px dashed gray;margin: 0 0.4em 0.5em 0.4em;box-sizing: border-box;padding-bottom: 0.4em;background-color: white;}#sk-container-id-5 div.sk-label label {font-family: monospace;font-weight: bold;display: inline-block;line-height: 1.2em;}#sk-container-id-5 div.sk-label-container {text-align: center;}#sk-container-id-5 div.sk-container {/* jupyter's `normalize.less` sets `[hidden] { display: none; }` but bootstrap.min.css set `[hidden] { display: none !important; }` so we also need the `!important` here to be able to override the default hidden behavior on the sphinx rendered scikit-learn.org. See: https://github.com/scikit-learn/scikit-learn/issues/21755 */display: inline-block !important;position: relative;}#sk-container-id-5 div.sk-text-repr-fallback {display: none;}</style><div id=\"sk-container-id-5\" class=\"sk-top-container\"><div class=\"sk-text-repr-fallback\"><pre>DecisionTreeClassifier(random_state=1111)</pre><b>In a Jupyter environment, please rerun this cell to show the HTML representation or trust the notebook. <br />On GitHub, the HTML representation is unable to render, please try loading this page with nbviewer.org.</b></div><div class=\"sk-container\" hidden><div class=\"sk-item\"><div class=\"sk-estimator sk-toggleable\"><input class=\"sk-toggleable__control sk-hidden--visually\" id=\"sk-estimator-id-7\" type=\"checkbox\" checked><label for=\"sk-estimator-id-7\" class=\"sk-toggleable__label sk-toggleable__label-arrow\">DecisionTreeClassifier</label><div class=\"sk-toggleable__content\"><pre>DecisionTreeClassifier(random_state=1111)</pre></div></div></div></div></div>"
      ],
      "text/plain": [
       "DecisionTreeClassifier(random_state=1111)"
      ]
     },
     "execution_count": 59,
     "metadata": {},
     "output_type": "execute_result"
    },
    {
     "name": "stdout",
     "output_type": "stream",
     "text": [
      "The test accuracy is 96.15%\n"
     ]
    }
   ],
   "source": [
    "#决策树\n",
    "clf=DecisionTreeClassifier(random_state=random_state)\n",
    "clf.fit(X_train,Y_train)\n",
    "Y_test_pred=clf.predict(X_test)\n",
    "accuracy_onetree=accuracy_score(Y_test,Y_test_pred) *100\n",
    "print(\"The test accuracy is {:.2f}%\".format(accuracy_onetree))"
   ]
  },
  {
   "cell_type": "code",
   "execution_count": 60,
   "metadata": {},
   "outputs": [
    {
     "name": "stdout",
     "output_type": "stream",
     "text": [
      "准确率 (Accuracy): 0.9615384615384616\n",
      "精确度 (Precision): 0.9733333333333333\n",
      "召回率 (Recall): 0.9696969696969697\n",
      "F1分数 (F1 Score): 0.9702380952380952\n",
      "              precision    recall  f1-score   support\n",
      "\n",
      "       cheap       0.92      1.00      0.96        23\n",
      "   expensive       1.00      1.00      1.00         7\n",
      "    ordinary       1.00      0.91      0.95        22\n",
      "\n",
      "    accuracy                           0.96        52\n",
      "   macro avg       0.97      0.97      0.97        52\n",
      "weighted avg       0.96      0.96      0.96        52\n",
      "\n"
     ]
    }
   ],
   "source": [
    "print('准确率 (Accuracy):',accuracy_score(Y_test,Y_test_pred))\n",
    "print('精确度 (Precision):',precision_score(Y_test, Y_test_pred, average='macro'))\n",
    "print('召回率 (Recall):',recall_score(Y_test,Y_test_pred, average='macro'))\n",
    "print('F1分数 (F1 Score):',f1_score(Y_test,Y_test_pred, average='macro'))\n",
    "print(classification_report(Y_test,Y_test_pred)) "
   ]
  },
  {
   "cell_type": "code",
   "execution_count": 61,
   "metadata": {},
   "outputs": [
    {
     "data": {
      "text/plain": [
       "array([[23,  0,  0],\n",
       "       [ 0,  7,  0],\n",
       "       [ 2,  0, 20]], dtype=int64)"
      ]
     },
     "execution_count": 61,
     "metadata": {},
     "output_type": "execute_result"
    }
   ],
   "source": [
    "from sklearn.metrics import confusion_matrix,accuracy_score,f1_score,precision_score,recall_score,classification_report\n",
    "\n",
    "confusion_matrix(Y_test,Y_test_pred)"
   ]
  },
  {
   "cell_type": "code",
   "execution_count": 62,
   "metadata": {},
   "outputs": [
    {
     "data": {
      "image/png": "[encoded data removed]",
      "text/plain": [
       "<Figure size 640x480 with 1 Axes>"
      ]
     },
     "metadata": {},
     "output_type": "display_data"
    }
   ],
   "source": [
    "importance_clf=clf.feature_importances_\n",
    "# feature_names=sig_data.feature_names\n",
    "feature_names = np.array(std_features.columns)\n",
    "feature_importance(importance_clf,feature_names,'Importance of Variables(Top30)-DecisionTreeClassifier')\n",
    "# print(std_features.columns)\n"
   ]
  },
  {
   "cell_type": "markdown",
   "metadata": {},
   "source": [
    "### 任务2-2 AdaBoost"
   ]
  },
  {
   "cell_type": "code",
   "execution_count": 63,
   "metadata": {},
   "outputs": [
    {
     "data": {
      "text/html": [
       "<style>#sk-container-id-6 {color: black;}#sk-container-id-6 pre{padding: 0;}#sk-container-id-6 div.sk-toggleable {background-color: white;}#sk-container-id-6 label.sk-toggleable__label {cursor: pointer;display: block;width: 100%;margin-bottom: 0;padding: 0.3em;box-sizing: border-box;text-align: center;}#sk-container-id-6 label.sk-toggleable__label-arrow:before {content: \"▸\";float: left;margin-right: 0.25em;color: #696969;}#sk-container-id-6 label.sk-toggleable__label-arrow:hover:before {color: black;}#sk-container-id-6 div.sk-estimator:hover label.sk-toggleable__label-arrow:before {color: black;}#sk-container-id-6 div.sk-toggleable__content {max-height: 0;max-width: 0;overflow: hidden;text-align: left;background-color: #f0f8ff;}#sk-container-id-6 div.sk-toggleable__content pre {margin: 0.2em;color: black;border-radius: 0.25em;background-color: #f0f8ff;}#sk-container-id-6 input.sk-toggleable__control:checked~div.sk-toggleable__content {max-height: 200px;max-width: 100%;overflow: auto;}#sk-container-id-6 input.sk-toggleable__control:checked~label.sk-toggleable__label-arrow:before {content: \"▾\";}#sk-container-id-6 div.sk-estimator input.sk-toggleable__control:checked~label.sk-toggleable__label {background-color: #d4ebff;}#sk-container-id-6 div.sk-label input.sk-toggleable__control:checked~label.sk-toggleable__label {background-color: #d4ebff;}#sk-container-id-6 input.sk-hidden--visually {border: 0;clip: rect(1px 1px 1px 1px);clip: rect(1px, 1px, 1px, 1px);height: 1px;margin: -1px;overflow: hidden;padding: 0;position: absolute;width: 1px;}#sk-container-id-6 div.sk-estimator {font-family: monospace;background-color: #f0f8ff;border: 1px dotted black;border-radius: 0.25em;box-sizing: border-box;margin-bottom: 0.5em;}#sk-container-id-6 div.sk-estimator:hover {background-color: #d4ebff;}#sk-container-id-6 div.sk-parallel-item::after {content: \"\";width: 100%;border-bottom: 1px solid gray;flex-grow: 1;}#sk-container-id-6 div.sk-label:hover label.sk-toggleable__label {background-color: #d4ebff;}#sk-container-id-6 div.sk-serial::before {content: \"\";position: absolute;border-left: 1px solid gray;box-sizing: border-box;top: 0;bottom: 0;left: 50%;z-index: 0;}#sk-container-id-6 div.sk-serial {display: flex;flex-direction: column;align-items: center;background-color: white;padding-right: 0.2em;padding-left: 0.2em;position: relative;}#sk-container-id-6 div.sk-item {position: relative;z-index: 1;}#sk-container-id-6 div.sk-parallel {display: flex;align-items: stretch;justify-content: center;background-color: white;position: relative;}#sk-container-id-6 div.sk-item::before, #sk-container-id-6 div.sk-parallel-item::before {content: \"\";position: absolute;border-left: 1px solid gray;box-sizing: border-box;top: 0;bottom: 0;left: 50%;z-index: -1;}#sk-container-id-6 div.sk-parallel-item {display: flex;flex-direction: column;z-index: 1;position: relative;background-color: white;}#sk-container-id-6 div.sk-parallel-item:first-child::after {align-self: flex-end;width: 50%;}#sk-container-id-6 div.sk-parallel-item:last-child::after {align-self: flex-start;width: 50%;}#sk-container-id-6 div.sk-parallel-item:only-child::after {width: 0;}#sk-container-id-6 div.sk-dashed-wrapped {border: 1px dashed gray;margin: 0 0.4em 0.5em 0.4em;box-sizing: border-box;padding-bottom: 0.4em;background-color: white;}#sk-container-id-6 div.sk-label label {font-family: monospace;font-weight: bold;display: inline-block;line-height: 1.2em;}#sk-container-id-6 div.sk-label-container {text-align: center;}#sk-container-id-6 div.sk-container {/* jupyter's `normalize.less` sets `[hidden] { display: none; }` but bootstrap.min.css set `[hidden] { display: none !important; }` so we also need the `!important` here to be able to override the default hidden behavior on the sphinx rendered scikit-learn.org. See: https://github.com/scikit-learn/scikit-learn/issues/21755 */display: inline-block !important;position: relative;}#sk-container-id-6 div.sk-text-repr-fallback {display: none;}</style><div id=\"sk-container-id-6\" class=\"sk-top-container\"><div class=\"sk-text-repr-fallback\"><pre>AdaBoostClassifier(base_estimator=DecisionTreeClassifier(), n_estimators=10)</pre><b>In a Jupyter environment, please rerun this cell to show the HTML representation or trust the notebook. <br />On GitHub, the HTML representation is unable to render, please try loading this page with nbviewer.org.</b></div><div class=\"sk-container\" hidden><div class=\"sk-item sk-dashed-wrapped\"><div class=\"sk-label-container\"><div class=\"sk-label sk-toggleable\"><input class=\"sk-toggleable__control sk-hidden--visually\" id=\"sk-estimator-id-8\" type=\"checkbox\" ><label for=\"sk-estimator-id-8\" class=\"sk-toggleable__label sk-toggleable__label-arrow\">AdaBoostClassifier</label><div class=\"sk-toggleable__content\"><pre>AdaBoostClassifier(base_estimator=DecisionTreeClassifier(), n_estimators=10)</pre></div></div></div><div class=\"sk-parallel\"><div class=\"sk-parallel-item\"><div class=\"sk-item\"><div class=\"sk-label-container\"><div class=\"sk-label sk-toggleable\"><input class=\"sk-toggleable__control sk-hidden--visually\" id=\"sk-estimator-id-9\" type=\"checkbox\" ><label for=\"sk-estimator-id-9\" class=\"sk-toggleable__label sk-toggleable__label-arrow\">base_estimator: DecisionTreeClassifier</label><div class=\"sk-toggleable__content\"><pre>DecisionTreeClassifier()</pre></div></div></div><div class=\"sk-serial\"><div class=\"sk-item\"><div class=\"sk-estimator sk-toggleable\"><input class=\"sk-toggleable__control sk-hidden--visually\" id=\"sk-estimator-id-10\" type=\"checkbox\" ><label for=\"sk-estimator-id-10\" class=\"sk-toggleable__label sk-toggleable__label-arrow\">DecisionTreeClassifier</label><div class=\"sk-toggleable__content\"><pre>DecisionTreeClassifier()</pre></div></div></div></div></div></div></div></div></div></div>"
      ],
      "text/plain": [
       "AdaBoostClassifier(base_estimator=DecisionTreeClassifier(), n_estimators=10)"
      ]
     },
     "execution_count": 63,
     "metadata": {},
     "output_type": "execute_result"
    },
    {
     "name": "stdout",
     "output_type": "stream",
     "text": [
      "The test Accuracy: 98.08%\n"
     ]
    }
   ],
   "source": [
    "from sklearn.ensemble import AdaBoostClassifier\n",
    "# ada=AdaBoostClassifier(n_estimators=100,random_state=random_state,learning_rate=0.2,\n",
    "#     algorithm='SAMME.R')\n",
    "ada = AdaBoostClassifier(\n",
    "    base_estimator=DecisionTreeClassifier(),\n",
    "    n_estimators=10\n",
    ")\n",
    "ada.fit(X_train,Y_train)\n",
    "Y_test_pred=ada.predict(X_test)\n",
    "accuracy_ada=accuracy_score(Y_test,Y_test_pred) *100\n",
    "print(\"The test Accuracy: {0:.2f}%\".format(accuracy_ada))"
   ]
  },
  {
   "cell_type": "code",
   "execution_count": 64,
   "metadata": {},
   "outputs": [
    {
     "name": "stdout",
     "output_type": "stream",
     "text": [
      "准确率 (Accuracy): 0.9807692307692307\n",
      "精确度 (Precision): 0.9861111111111112\n",
      "召回率 (Recall): 0.9848484848484849\n",
      "F1分数 (F1 Score): 0.9851558634339436\n",
      "              precision    recall  f1-score   support\n",
      "\n",
      "       cheap       0.96      1.00      0.98        23\n",
      "   expensive       1.00      1.00      1.00         7\n",
      "    ordinary       1.00      0.95      0.98        22\n",
      "\n",
      "    accuracy                           0.98        52\n",
      "   macro avg       0.99      0.98      0.99        52\n",
      "weighted avg       0.98      0.98      0.98        52\n",
      "\n"
     ]
    }
   ],
   "source": [
    "print('准确率 (Accuracy):',accuracy_score(Y_test,Y_test_pred))\n",
    "print('精确度 (Precision):',precision_score(Y_test, Y_test_pred, average='macro'))\n",
    "print('召回率 (Recall):',recall_score(Y_test,Y_test_pred, average='macro'))\n",
    "print('F1分数 (F1 Score):',f1_score(Y_test,Y_test_pred, average='macro'))\n",
    "print(classification_report(Y_test,Y_test_pred)) "
   ]
  },
  {
   "cell_type": "code",
   "execution_count": 65,
   "metadata": {},
   "outputs": [
    {
     "data": {
      "image/png": "[encoded data removed]",
      "text/plain": [
       "<Figure size 640x480 with 1 Axes>"
      ]
     },
     "metadata": {},
     "output_type": "display_data"
    }
   ],
   "source": [
    "importance_ada=ada.feature_importances_\n",
    "feature_importance(importance_ada,feature_names,'Importance of Variables(Top30)-AdaBoostClassifier')"
   ]
  },
  {
   "cell_type": "markdown",
   "metadata": {},
   "source": [
    "### 任务2-3 随机森林"
   ]
  },
  {
   "cell_type": "code",
   "execution_count": 66,
   "metadata": {},
   "outputs": [
    {
     "data": {
      "text/html": [
       "<style>#sk-container-id-7 {color: black;}#sk-container-id-7 pre{padding: 0;}#sk-container-id-7 div.sk-toggleable {background-color: white;}#sk-container-id-7 label.sk-toggleable__label {cursor: pointer;display: block;width: 100%;margin-bottom: 0;padding: 0.3em;box-sizing: border-box;text-align: center;}#sk-container-id-7 label.sk-toggleable__label-arrow:before {content: \"▸\";float: left;margin-right: 0.25em;color: #696969;}#sk-container-id-7 label.sk-toggleable__label-arrow:hover:before {color: black;}#sk-container-id-7 div.sk-estimator:hover label.sk-toggleable__label-arrow:before {color: black;}#sk-container-id-7 div.sk-toggleable__content {max-height: 0;max-width: 0;overflow: hidden;text-align: left;background-color: #f0f8ff;}#sk-container-id-7 div.sk-toggleable__content pre {margin: 0.2em;color: black;border-radius: 0.25em;background-color: #f0f8ff;}#sk-container-id-7 input.sk-toggleable__control:checked~div.sk-toggleable__content {max-height: 200px;max-width: 100%;overflow: auto;}#sk-container-id-7 input.sk-toggleable__control:checked~label.sk-toggleable__label-arrow:before {content: \"▾\";}#sk-container-id-7 div.sk-estimator input.sk-toggleable__control:checked~label.sk-toggleable__label {background-color: #d4ebff;}#sk-container-id-7 div.sk-label input.sk-toggleable__control:checked~label.sk-toggleable__label {background-color: #d4ebff;}#sk-container-id-7 input.sk-hidden--visually {border: 0;clip: rect(1px 1px 1px 1px);clip: rect(1px, 1px, 1px, 1px);height: 1px;margin: -1px;overflow: hidden;padding: 0;position: absolute;width: 1px;}#sk-container-id-7 div.sk-estimator {font-family: monospace;background-color: #f0f8ff;border: 1px dotted black;border-radius: 0.25em;box-sizing: border-box;margin-bottom: 0.5em;}#sk-container-id-7 div.sk-estimator:hover {background-color: #d4ebff;}#sk-container-id-7 div.sk-parallel-item::after {content: \"\";width: 100%;border-bottom: 1px solid gray;flex-grow: 1;}#sk-container-id-7 div.sk-label:hover label.sk-toggleable__label {background-color: #d4ebff;}#sk-container-id-7 div.sk-serial::before {content: \"\";position: absolute;border-left: 1px solid gray;box-sizing: border-box;top: 0;bottom: 0;left: 50%;z-index: 0;}#sk-container-id-7 div.sk-serial {display: flex;flex-direction: column;align-items: center;background-color: white;padding-right: 0.2em;padding-left: 0.2em;position: relative;}#sk-container-id-7 div.sk-item {position: relative;z-index: 1;}#sk-container-id-7 div.sk-parallel {display: flex;align-items: stretch;justify-content: center;background-color: white;position: relative;}#sk-container-id-7 div.sk-item::before, #sk-container-id-7 div.sk-parallel-item::before {content: \"\";position: absolute;border-left: 1px solid gray;box-sizing: border-box;top: 0;bottom: 0;left: 50%;z-index: -1;}#sk-container-id-7 div.sk-parallel-item {display: flex;flex-direction: column;z-index: 1;position: relative;background-color: white;}#sk-container-id-7 div.sk-parallel-item:first-child::after {align-self: flex-end;width: 50%;}#sk-container-id-7 div.sk-parallel-item:last-child::after {align-self: flex-start;width: 50%;}#sk-container-id-7 div.sk-parallel-item:only-child::after {width: 0;}#sk-container-id-7 div.sk-dashed-wrapped {border: 1px dashed gray;margin: 0 0.4em 0.5em 0.4em;box-sizing: border-box;padding-bottom: 0.4em;background-color: white;}#sk-container-id-7 div.sk-label label {font-family: monospace;font-weight: bold;display: inline-block;line-height: 1.2em;}#sk-container-id-7 div.sk-label-container {text-align: center;}#sk-container-id-7 div.sk-container {/* jupyter's `normalize.less` sets `[hidden] { display: none; }` but bootstrap.min.css set `[hidden] { display: none !important; }` so we also need the `!important` here to be able to override the default hidden behavior on the sphinx rendered scikit-learn.org. See: https://github.com/scikit-learn/scikit-learn/issues/21755 */display: inline-block !important;position: relative;}#sk-container-id-7 div.sk-text-repr-fallback {display: none;}</style><div id=\"sk-container-id-7\" class=\"sk-top-container\"><div class=\"sk-text-repr-fallback\"><pre>RandomForestClassifier(n_estimators=10, random_state=1111)</pre><b>In a Jupyter environment, please rerun this cell to show the HTML representation or trust the notebook. <br />On GitHub, the HTML representation is unable to render, please try loading this page with nbviewer.org.</b></div><div class=\"sk-container\" hidden><div class=\"sk-item\"><div class=\"sk-estimator sk-toggleable\"><input class=\"sk-toggleable__control sk-hidden--visually\" id=\"sk-estimator-id-11\" type=\"checkbox\" checked><label for=\"sk-estimator-id-11\" class=\"sk-toggleable__label sk-toggleable__label-arrow\">RandomForestClassifier</label><div class=\"sk-toggleable__content\"><pre>RandomForestClassifier(n_estimators=10, random_state=1111)</pre></div></div></div></div></div>"
      ],
      "text/plain": [
       "RandomForestClassifier(n_estimators=10, random_state=1111)"
      ]
     },
     "execution_count": 66,
     "metadata": {},
     "output_type": "execute_result"
    },
    {
     "name": "stdout",
     "output_type": "stream",
     "text": [
      "The test Accuracy: 98.08%\n"
     ]
    }
   ],
   "source": [
    "from sklearn.ensemble import RandomForestClassifier\n",
    "rf=RandomForestClassifier(random_state=random_state,n_estimators=10)\n",
    "rf.fit(X_train,Y_train)\n",
    "Y_test_pred=rf.predict(X_test)\n",
    "accuracy_rf=accuracy_score(Y_test,Y_test_pred) *100\n",
    "print(\"The test Accuracy: {0:.2f}%\".format(accuracy_rf))"
   ]
  },
  {
   "cell_type": "code",
   "execution_count": 67,
   "metadata": {},
   "outputs": [
    {
     "name": "stdout",
     "output_type": "stream",
     "text": [
      "准确率 (Accuracy): 0.9807692307692307\n",
      "精确度 (Precision): 0.9855072463768115\n",
      "召回率 (Recall): 0.9855072463768115\n",
      "F1分数 (F1 Score): 0.9851851851851853\n",
      "              precision    recall  f1-score   support\n",
      "\n",
      "       cheap       1.00      0.96      0.98        23\n",
      "   expensive       1.00      1.00      1.00         7\n",
      "    ordinary       0.96      1.00      0.98        22\n",
      "\n",
      "    accuracy                           0.98        52\n",
      "   macro avg       0.99      0.99      0.99        52\n",
      "weighted avg       0.98      0.98      0.98        52\n",
      "\n"
     ]
    }
   ],
   "source": [
    "print('准确率 (Accuracy):',accuracy_score(Y_test,Y_test_pred))\n",
    "print('精确度 (Precision):',precision_score(Y_test, Y_test_pred, average='macro'))\n",
    "print('召回率 (Recall):',recall_score(Y_test,Y_test_pred, average='macro'))\n",
    "print('F1分数 (F1 Score):',f1_score(Y_test,Y_test_pred, average='macro'))\n",
    "print(classification_report(Y_test,Y_test_pred)) "
   ]
  },
  {
   "cell_type": "code",
   "execution_count": 68,
   "metadata": {},
   "outputs": [
    {
     "data": {
      "image/png": "[encoded data removed]",
      "text/plain": [
       "<Figure size 640x480 with 1 Axes>"
      ]
     },
     "metadata": {},
     "output_type": "display_data"
    }
   ],
   "source": [
    "importance_rf=rf.feature_importances_\n",
    "feature_importance(importance_rf,feature_names,'Importance of Variables(Top30)-RandomForestClassifier')"
   ]
  },
  {
   "cell_type": "markdown",
   "metadata": {},
   "source": [
    "### 任务2-4 SVM支持向量机"
   ]
  },
  {
   "cell_type": "code",
   "execution_count": 69,
   "metadata": {},
   "outputs": [
    {
     "data": {
      "text/html": [
       "<style>#sk-container-id-8 {color: black;}#sk-container-id-8 pre{padding: 0;}#sk-container-id-8 div.sk-toggleable {background-color: white;}#sk-container-id-8 label.sk-toggleable__label {cursor: pointer;display: block;width: 100%;margin-bottom: 0;padding: 0.3em;box-sizing: border-box;text-align: center;}#sk-container-id-8 label.sk-toggleable__label-arrow:before {content: \"▸\";float: left;margin-right: 0.25em;color: #696969;}#sk-container-id-8 label.sk-toggleable__label-arrow:hover:before {color: black;}#sk-container-id-8 div.sk-estimator:hover label.sk-toggleable__label-arrow:before {color: black;}#sk-container-id-8 div.sk-toggleable__content {max-height: 0;max-width: 0;overflow: hidden;text-align: left;background-color: #f0f8ff;}#sk-container-id-8 div.sk-toggleable__content pre {margin: 0.2em;color: black;border-radius: 0.25em;background-color: #f0f8ff;}#sk-container-id-8 input.sk-toggleable__control:checked~div.sk-toggleable__content {max-height: 200px;max-width: 100%;overflow: auto;}#sk-container-id-8 input.sk-toggleable__control:checked~label.sk-toggleable__label-arrow:before {content: \"▾\";}#sk-container-id-8 div.sk-estimator input.sk-toggleable__control:checked~label.sk-toggleable__label {background-color: #d4ebff;}#sk-container-id-8 div.sk-label input.sk-toggleable__control:checked~label.sk-toggleable__label {background-color: #d4ebff;}#sk-container-id-8 input.sk-hidden--visually {border: 0;clip: rect(1px 1px 1px 1px);clip: rect(1px, 1px, 1px, 1px);height: 1px;margin: -1px;overflow: hidden;padding: 0;position: absolute;width: 1px;}#sk-container-id-8 div.sk-estimator {font-family: monospace;background-color: #f0f8ff;border: 1px dotted black;border-radius: 0.25em;box-sizing: border-box;margin-bottom: 0.5em;}#sk-container-id-8 div.sk-estimator:hover {background-color: #d4ebff;}#sk-container-id-8 div.sk-parallel-item::after {content: \"\";width: 100%;border-bottom: 1px solid gray;flex-grow: 1;}#sk-container-id-8 div.sk-label:hover label.sk-toggleable__label {background-color: #d4ebff;}#sk-container-id-8 div.sk-serial::before {content: \"\";position: absolute;border-left: 1px solid gray;box-sizing: border-box;top: 0;bottom: 0;left: 50%;z-index: 0;}#sk-container-id-8 div.sk-serial {display: flex;flex-direction: column;align-items: center;background-color: white;padding-right: 0.2em;padding-left: 0.2em;position: relative;}#sk-container-id-8 div.sk-item {position: relative;z-index: 1;}#sk-container-id-8 div.sk-parallel {display: flex;align-items: stretch;justify-content: center;background-color: white;position: relative;}#sk-container-id-8 div.sk-item::before, #sk-container-id-8 div.sk-parallel-item::before {content: \"\";position: absolute;border-left: 1px solid gray;box-sizing: border-box;top: 0;bottom: 0;left: 50%;z-index: -1;}#sk-container-id-8 div.sk-parallel-item {display: flex;flex-direction: column;z-index: 1;position: relative;background-color: white;}#sk-container-id-8 div.sk-parallel-item:first-child::after {align-self: flex-end;width: 50%;}#sk-container-id-8 div.sk-parallel-item:last-child::after {align-self: flex-start;width: 50%;}#sk-container-id-8 div.sk-parallel-item:only-child::after {width: 0;}#sk-container-id-8 div.sk-dashed-wrapped {border: 1px dashed gray;margin: 0 0.4em 0.5em 0.4em;box-sizing: border-box;padding-bottom: 0.4em;background-color: white;}#sk-container-id-8 div.sk-label label {font-family: monospace;font-weight: bold;display: inline-block;line-height: 1.2em;}#sk-container-id-8 div.sk-label-container {text-align: center;}#sk-container-id-8 div.sk-container {/* jupyter's `normalize.less` sets `[hidden] { display: none; }` but bootstrap.min.css set `[hidden] { display: none !important; }` so we also need the `!important` here to be able to override the default hidden behavior on the sphinx rendered scikit-learn.org. See: https://github.com/scikit-learn/scikit-learn/issues/21755 */display: inline-block !important;position: relative;}#sk-container-id-8 div.sk-text-repr-fallback {display: none;}</style><div id=\"sk-container-id-8\" class=\"sk-top-container\"><div class=\"sk-text-repr-fallback\"><pre>SVC()</pre><b>In a Jupyter environment, please rerun this cell to show the HTML representation or trust the notebook. <br />On GitHub, the HTML representation is unable to render, please try loading this page with nbviewer.org.</b></div><div class=\"sk-container\" hidden><div class=\"sk-item\"><div class=\"sk-estimator sk-toggleable\"><input class=\"sk-toggleable__control sk-hidden--visually\" id=\"sk-estimator-id-12\" type=\"checkbox\" checked><label for=\"sk-estimator-id-12\" class=\"sk-toggleable__label sk-toggleable__label-arrow\">SVC</label><div class=\"sk-toggleable__content\"><pre>SVC()</pre></div></div></div></div></div>"
      ],
      "text/plain": [
       "SVC()"
      ]
     },
     "execution_count": 69,
     "metadata": {},
     "output_type": "execute_result"
    },
    {
     "name": "stdout",
     "output_type": "stream",
     "text": [
      "The test accuracy is 96.15%\n"
     ]
    }
   ],
   "source": [
    "from sklearn.svm import SVC# 导入SVM模型\n",
    "# 实例化SVM模型，使用线性核\n",
    "clf=SVC(kernel='rbf')\n",
    "# 使用训练集训练模型\n",
    "clf.fit(X_train,Y_train)\n",
    "# 使用测试集进行预测\n",
    "Y_test_pred = clf.predict(X_test)\n",
    "# 计算模型在测试集上的准确率\n",
    "accuracy_svm=accuracy_score(Y_test,Y_test_pred) *100\n",
    "# 输出测试集准确率\n",
    "print(\"The test accuracy is {:.2f}%\".format(accuracy_svm))"
   ]
  },
  {
   "cell_type": "code",
   "execution_count": 70,
   "metadata": {},
   "outputs": [
    {
     "name": "stdout",
     "output_type": "stream",
     "text": [
      "准确率 (Accuracy): 0.9615384615384616\n",
      "精确度 (Precision): 0.970959595959596\n",
      "召回率 (Recall): 0.9372294372294373\n",
      "F1分数 (F1 Score): 0.952115260625899\n",
      "              precision    recall  f1-score   support\n",
      "\n",
      "       cheap       0.96      1.00      0.98        23\n",
      "   expensive       1.00      0.86      0.92         7\n",
      "    ordinary       0.95      0.95      0.95        22\n",
      "\n",
      "    accuracy                           0.96        52\n",
      "   macro avg       0.97      0.94      0.95        52\n",
      "weighted avg       0.96      0.96      0.96        52\n",
      "\n"
     ]
    }
   ],
   "source": [
    "print('准确率 (Accuracy):',accuracy_score(Y_test,Y_test_pred))\n",
    "print('精确度 (Precision):',precision_score(Y_test, Y_test_pred, average='macro'))\n",
    "print('召回率 (Recall):',recall_score(Y_test,Y_test_pred, average='macro'))\n",
    "print('F1分数 (F1 Score):',f1_score(Y_test,Y_test_pred, average='macro'))\n",
    "print(classification_report(Y_test,Y_test_pred))"
   ]
  },
  {
   "cell_type": "markdown",
   "metadata": {},
   "source": [
    "### 交叉验证与比较"
   ]
  },
  {
   "cell_type": "code",
   "execution_count": 71,
   "metadata": {},
   "outputs": [
    {
     "name": "stderr",
     "output_type": "stream",
     "text": [
      "100%|██████████| 50/50 [00:34<00:00,  1.46it/s]\n"
     ]
    },
    {
     "data": {
      "text/plain": [
       "Text(0.5, 1.0, 'Accuracy of Different Methods')"
      ]
     },
     "execution_count": 71,
     "metadata": {},
     "output_type": "execute_result"
    },
    {
     "data": {
      "image/png": "[encoded data removed]",
      "text/plain": [
       "<Figure size 640x480 with 1 Axes>"
      ]
     },
     "metadata": {},
     "output_type": "display_data"
    }
   ],
   "source": [
    "#比较 决策树 AdaBoost XGBoost 随机森林 SVM 算法\n",
    "#我们对每种算法进行 50 次试验, 每次试验采用 5 折交叉验证计算平均准确率, \n",
    "#每次试验中 XGBoost、随机森林和 AdaBoost 都是建立 20 棵决策树的分类器\n",
    "from sklearn.model_selection import cross_val_score\n",
    "from xgboost.sklearn import XGBClassifier\n",
    "from tqdm import tqdm\n",
    "from sklearn.preprocessing import LabelEncoder\n",
    "le = LabelEncoder()\n",
    "xgb_y = le.fit_transform(Y)\n",
    "n=50\n",
    "accuracy_onetree=[]\n",
    "accuracy_svm=[]\n",
    "accuracy_rf=[]\n",
    "accuracy_ada=[]\n",
    "accuracy_xgb=[]\n",
    "for i in tqdm(range(n)):\n",
    "  clf=DecisionTreeClassifier()#决策树\n",
    "  accuracy_onetree.append(np.mean(cross_val_score(clf,X,Y,scoring='accuracy',cv=5)))\n",
    "  \n",
    "  svm = SVC(kernel='rbf',random_state=random_state)\n",
    "  accuracy_svm.append(np.mean(cross_val_score(svm,X,Y,scoring='accuracy',cv=5)))\n",
    "  \n",
    "  rf=RandomForestClassifier(n_estimators=20)\n",
    "  accuracy_rf.append(np.mean(cross_val_score(rf,X,Y,scoring='accuracy',cv=5)))\n",
    "  \n",
    "  ada=AdaBoostClassifier(base_estimator=DecisionTreeClassifier(max_depth=20),n_estimators=20,learning_rate=0.5)\n",
    "  accuracy_ada.append(np.mean(cross_val_score(ada,X,Y,scoring='accuracy',cv=5)))\n",
    "\n",
    "  xgb=XGBClassifier(n_estimators=20,objective='multi:softmax',num_class=3, random_state = random_state)\n",
    "  accuracy_xgb.append(np.mean(cross_val_score(xgb,X,xgb_y,scoring='accuracy',cv=5)))\n",
    "\n",
    "fig=plt.figure()\n",
    "box=plt.boxplot([accuracy_onetree,accuracy_ada,accuracy_xgb,\n",
    "                 accuracy_rf,accuracy_svm],notch=True,\n",
    "                patch_artist=True,labels=['DecisionTree','AdaBoost','XGBoost','RandomForest','SVM-rbf'])\n",
    "colors=['lightblue', 'lightgreen', 'tan', 'pink','lightyellow']\n",
    "for patch, color in zip(box['boxes'], colors):\n",
    "  patch.set_facecolor(color)\n",
    "  patch.set_alpha(1)\n",
    "plt.title('Accuracy of Different Methods')\n",
    "plt.show()"
   ]
  },
  {
   "cell_type": "code",
   "execution_count": 72,
   "metadata": {},
   "outputs": [
    {
     "name": "stdout",
     "output_type": "stream",
     "text": [
      "决策树准确率： [0.7902439024390244, 0.7707317073170732, 0.7902439024390244, 0.7804878048780488, 0.775609756097561, 0.7853658536585366, 0.7902439024390244, 0.7707317073170732, 0.7853658536585366, 0.775609756097561, 0.7804878048780488, 0.7902439024390244, 0.7804878048780488, 0.775609756097561, 0.7853658536585366, 0.775609756097561, 0.7853658536585366, 0.7853658536585366, 0.7804878048780488, 0.8, 0.7853658536585366, 0.7707317073170732, 0.7853658536585366, 0.7853658536585366, 0.8, 0.7853658536585366, 0.8, 0.775609756097561, 0.7804878048780488, 0.7804878048780488, 0.7853658536585366, 0.7804878048780488, 0.775609756097561, 0.7853658536585366, 0.7707317073170732, 0.7853658536585366, 0.775609756097561, 0.8, 0.7853658536585366, 0.7853658536585366, 0.7853658536585366, 0.7853658536585366, 0.7951219512195122, 0.7902439024390244, 0.7853658536585366, 0.775609756097561, 0.7902439024390244, 0.7804878048780488, 0.7804878048780488, 0.775609756097561]\n",
      "Adaboost准确率： [0.7707317073170732, 0.7707317073170732, 0.7707317073170732, 0.775609756097561, 0.7707317073170732, 0.7707317073170732, 0.7707317073170732, 0.775609756097561, 0.7707317073170732, 0.7707317073170732, 0.7707317073170732, 0.7707317073170732, 0.775609756097561, 0.7707317073170732, 0.7707317073170732, 0.7707317073170732, 0.7707317073170732, 0.7707317073170732, 0.7707317073170732, 0.7707317073170732, 0.7707317073170732, 0.7707317073170732, 0.7707317073170732, 0.7707317073170732, 0.775609756097561, 0.7707317073170732, 0.7707317073170732, 0.7707317073170732, 0.7707317073170732, 0.7707317073170732, 0.7707317073170732, 0.7707317073170732, 0.7707317073170732, 0.7707317073170732, 0.7707317073170732, 0.7707317073170732, 0.7707317073170732, 0.775609756097561, 0.7707317073170732, 0.775609756097561, 0.7707317073170732, 0.7707317073170732, 0.7707317073170732, 0.775609756097561, 0.775609756097561, 0.7707317073170732, 0.775609756097561, 0.7707317073170732, 0.7707317073170732, 0.775609756097561]\n",
      "XGBoost准确率： [0.8390243902439025, 0.8390243902439025, 0.8390243902439025, 0.8390243902439025, 0.8390243902439025, 0.8390243902439025, 0.8390243902439025, 0.8390243902439025, 0.8390243902439025, 0.8390243902439025, 0.8390243902439025, 0.8390243902439025, 0.8390243902439025, 0.8390243902439025, 0.8390243902439025, 0.8390243902439025, 0.8390243902439025, 0.8390243902439025, 0.8390243902439025, 0.8390243902439025, 0.8390243902439025, 0.8390243902439025, 0.8390243902439025, 0.8390243902439025, 0.8390243902439025, 0.8390243902439025, 0.8390243902439025, 0.8390243902439025, 0.8390243902439025, 0.8390243902439025, 0.8390243902439025, 0.8390243902439025, 0.8390243902439025, 0.8390243902439025, 0.8390243902439025, 0.8390243902439025, 0.8390243902439025, 0.8390243902439025, 0.8390243902439025, 0.8390243902439025, 0.8390243902439025, 0.8390243902439025, 0.8390243902439025, 0.8390243902439025, 0.8390243902439025, 0.8390243902439025, 0.8390243902439025, 0.8390243902439025, 0.8390243902439025, 0.8390243902439025]\n",
      "随机森林准确率： [0.8195121951219513, 0.7707317073170732, 0.8097560975609757, 0.8243902439024391, 0.8195121951219513, 0.7853658536585366, 0.8195121951219513, 0.8, 0.8097560975609757, 0.7804878048780488, 0.7853658536585366, 0.8048780487804879, 0.8097560975609757, 0.7707317073170732, 0.7951219512195122, 0.7902439024390244, 0.7707317073170732, 0.8292682926829269, 0.7853658536585366, 0.8390243902439025, 0.8585365853658538, 0.8243902439024391, 0.7804878048780488, 0.7658536585365854, 0.7804878048780488, 0.8, 0.775609756097561, 0.8292682926829269, 0.8048780487804879, 0.7902439024390244, 0.8048780487804879, 0.7902439024390244, 0.7804878048780488, 0.7951219512195122, 0.8097560975609757, 0.8048780487804879, 0.7365853658536585, 0.8097560975609757, 0.751219512195122, 0.8, 0.8048780487804879, 0.8146341463414635, 0.7902439024390244, 0.8, 0.8243902439024391, 0.8195121951219513, 0.7951219512195122, 0.8, 0.7707317073170732, 0.8146341463414635]\n",
      "SVM准确率： [0.8292682926829269, 0.8292682926829269, 0.8292682926829269, 0.8292682926829269, 0.8292682926829269, 0.8292682926829269, 0.8292682926829269, 0.8292682926829269, 0.8292682926829269, 0.8292682926829269, 0.8292682926829269, 0.8292682926829269, 0.8292682926829269, 0.8292682926829269, 0.8292682926829269, 0.8292682926829269, 0.8292682926829269, 0.8292682926829269, 0.8292682926829269, 0.8292682926829269, 0.8292682926829269, 0.8292682926829269, 0.8292682926829269, 0.8292682926829269, 0.8292682926829269, 0.8292682926829269, 0.8292682926829269, 0.8292682926829269, 0.8292682926829269, 0.8292682926829269, 0.8292682926829269, 0.8292682926829269, 0.8292682926829269, 0.8292682926829269, 0.8292682926829269, 0.8292682926829269, 0.8292682926829269, 0.8292682926829269, 0.8292682926829269, 0.8292682926829269, 0.8292682926829269, 0.8292682926829269, 0.8292682926829269, 0.8292682926829269, 0.8292682926829269, 0.8292682926829269, 0.8292682926829269, 0.8292682926829269, 0.8292682926829269, 0.8292682926829269]\n"
     ]
    }
   ],
   "source": [
    "#输出 accuracy_X\n",
    "print(\"决策树准确率：\",accuracy_onetree)\n",
    "print(\"Adaboost准确率：\",accuracy_ada)\n",
    "print(\"XGBoost准确率：\",accuracy_xgb)\n",
    "print(\"随机森林准确率：\",accuracy_rf)\n",
    "print(\"SVM准确率：\",accuracy_svm)"
   ]
  },
  {
   "cell_type": "code",
   "execution_count": 73,
   "metadata": {},
   "outputs": [
    {
     "name": "stderr",
     "output_type": "stream",
     "text": [
      "100%|██████████| 50/50 [00:35<00:00,  1.42it/s]\n"
     ]
    }
   ],
   "source": [
    "from sklearn.calibration import cross_val_predict\n",
    "from sklearn.metrics import precision_score, recall_score, confusion_matrix\n",
    "\n",
    "\n",
    "precision_onetree = []\n",
    "recall_onetree = []\n",
    "precision_svm = []\n",
    "recall_svm = []\n",
    "precision_rf = []\n",
    "recall_rf = []\n",
    "precision_ada = []\n",
    "recall_ada = []\n",
    "precision_xgb = []\n",
    "recall_xgb = []\n",
    "\n",
    "for i in tqdm(range(n)):\n",
    "    clf = DecisionTreeClassifier()  # 决策树\n",
    "    y_pred = cross_val_predict(clf, X, Y, cv=5)\n",
    "    precision_onetree.append(precision_score(Y, y_pred, average='weighted'))\n",
    "    recall_onetree.append(recall_score(Y, y_pred, average='weighted'))\n",
    "\n",
    "    svm = SVC(kernel='rbf', random_state=random_state)\n",
    "    y_pred = cross_val_predict(svm, X, Y, cv=5)\n",
    "    precision_svm.append(precision_score(Y, y_pred, average='weighted'))\n",
    "    recall_svm.append(recall_score(Y, y_pred, average='weighted'))\n",
    "\n",
    "    rf = RandomForestClassifier(n_estimators=20)\n",
    "    y_pred = cross_val_predict(rf, X, Y, cv=5)\n",
    "    precision_rf.append(precision_score(Y, y_pred, average='weighted'))\n",
    "    recall_rf.append(recall_score(Y, y_pred, average='weighted'))\n",
    "\n",
    "    ada = AdaBoostClassifier(base_estimator=DecisionTreeClassifier(max_depth=20), n_estimators=20, learning_rate=0.5)\n",
    "    y_pred = cross_val_predict(ada, X, Y, cv=5)\n",
    "    precision_ada.append(precision_score(Y, y_pred, average='weighted'))\n",
    "    recall_ada.append(recall_score(Y, y_pred, average='weighted'))\n",
    "\n",
    "    xgb = XGBClassifier(n_estimators=20, objective='multi:softmax', num_class=3, random_state=random_state)\n",
    "    y_pred = cross_val_predict(xgb, X, xgb_y, cv=5)\n",
    "    precision_xgb.append(precision_score(xgb_y, y_pred, average='weighted'))\n",
    "    recall_xgb.append(recall_score(xgb_y, y_pred, average='weighted'))\n",
    "\n"
   ]
  },
  {
   "cell_type": "code",
   "execution_count": 74,
   "metadata": {},
   "outputs": [
    {
     "data": {
      "text/plain": [
       "{'whiskers': [<matplotlib.lines.Line2D at 0x1b5d4326820>,\n",
       "  <matplotlib.lines.Line2D at 0x1b5d4326ac0>,\n",
       "  <matplotlib.lines.Line2D at 0x1b5d4332910>,\n",
       "  <matplotlib.lines.Line2D at 0x1b5d4332be0>,\n",
       "  <matplotlib.lines.Line2D at 0x1b5d433fb50>,\n",
       "  <matplotlib.lines.Line2D at 0x1b5d433fdf0>,\n",
       "  <matplotlib.lines.Line2D at 0x1b5d434dd60>,\n",
       "  <matplotlib.lines.Line2D at 0x1b5d4359040>,\n",
       "  <matplotlib.lines.Line2D at 0x1b5d41a6a30>,\n",
       "  <matplotlib.lines.Line2D at 0x1b5d419ddc0>],\n",
       " 'caps': [<matplotlib.lines.Line2D at 0x1b5d4326d60>,\n",
       "  <matplotlib.lines.Line2D at 0x1b5d4326eb0>,\n",
       "  <matplotlib.lines.Line2D at 0x1b5d4332e80>,\n",
       "  <matplotlib.lines.Line2D at 0x1b5d433f160>,\n",
       "  <matplotlib.lines.Line2D at 0x1b5d434d0d0>,\n",
       "  <matplotlib.lines.Line2D at 0x1b5d434d370>,\n",
       "  <matplotlib.lines.Line2D at 0x1b5d43592e0>,\n",
       "  <matplotlib.lines.Line2D at 0x1b5d4359580>,\n",
       "  <matplotlib.lines.Line2D at 0x1b5d4179cd0>,\n",
       "  <matplotlib.lines.Line2D at 0x1b5d43599d0>],\n",
       " 'boxes': [<matplotlib.patches.PathPatch at 0x1b5d4326490>,\n",
       "  <matplotlib.patches.PathPatch at 0x1b5d43324f0>,\n",
       "  <matplotlib.patches.PathPatch at 0x1b5d433f820>,\n",
       "  <matplotlib.patches.PathPatch at 0x1b5d434d940>,\n",
       "  <matplotlib.patches.PathPatch at 0x1b5d4197370>],\n",
       " 'medians': [<matplotlib.lines.Line2D at 0x1b5d43321c0>,\n",
       "  <matplotlib.lines.Line2D at 0x1b5d433f400>,\n",
       "  <matplotlib.lines.Line2D at 0x1b5d434d610>,\n",
       "  <matplotlib.lines.Line2D at 0x1b5d4359820>,\n",
       "  <matplotlib.lines.Line2D at 0x1b5d4359c70>],\n",
       " 'fliers': [<matplotlib.lines.Line2D at 0x1b5d4332460>,\n",
       "  <matplotlib.lines.Line2D at 0x1b5d433f6a0>,\n",
       "  <matplotlib.lines.Line2D at 0x1b5d434d8b0>,\n",
       "  <matplotlib.lines.Line2D at 0x1b5d4197ca0>,\n",
       "  <matplotlib.lines.Line2D at 0x1b5d4359f10>],\n",
       " 'means': []}"
      ]
     },
     "execution_count": 74,
     "metadata": {},
     "output_type": "execute_result"
    },
    {
     "data": {
      "text/plain": [
       "Text(0.5, 1.0, 'Precision of Different Methods')"
      ]
     },
     "execution_count": 74,
     "metadata": {},
     "output_type": "execute_result"
    },
    {
     "data": {
      "text/plain": [
       "{'whiskers': [<matplotlib.lines.Line2D at 0x1b5d436e550>,\n",
       "  <matplotlib.lines.Line2D at 0x1b5d436e7f0>,\n",
       "  <matplotlib.lines.Line2D at 0x1b5d437a760>,\n",
       "  <matplotlib.lines.Line2D at 0x1b5d437aa00>,\n",
       "  <matplotlib.lines.Line2D at 0x1b5d4388970>,\n",
       "  <matplotlib.lines.Line2D at 0x1b5d4388c10>,\n",
       "  <matplotlib.lines.Line2D at 0x1b5d4395b80>,\n",
       "  <matplotlib.lines.Line2D at 0x1b5d4395e50>,\n",
       "  <matplotlib.lines.Line2D at 0x1b5d43a3dc0>,\n",
       "  <matplotlib.lines.Line2D at 0x1b5d43b00a0>],\n",
       " 'caps': [<matplotlib.lines.Line2D at 0x1b5d436ea90>,\n",
       "  <matplotlib.lines.Line2D at 0x1b5d436ed30>,\n",
       "  <matplotlib.lines.Line2D at 0x1b5d437aca0>,\n",
       "  <matplotlib.lines.Line2D at 0x1b5d437af40>,\n",
       "  <matplotlib.lines.Line2D at 0x1b5d4388eb0>,\n",
       "  <matplotlib.lines.Line2D at 0x1b5d4395190>,\n",
       "  <matplotlib.lines.Line2D at 0x1b5d43a3130>,\n",
       "  <matplotlib.lines.Line2D at 0x1b5d43a33d0>,\n",
       "  <matplotlib.lines.Line2D at 0x1b5d43b0340>,\n",
       "  <matplotlib.lines.Line2D at 0x1b5d43b05e0>],\n",
       " 'boxes': [<matplotlib.patches.PathPatch at 0x1b5d436e190>,\n",
       "  <matplotlib.patches.PathPatch at 0x1b5d437a340>,\n",
       "  <matplotlib.patches.PathPatch at 0x1b5d4388640>,\n",
       "  <matplotlib.patches.PathPatch at 0x1b5d4395760>,\n",
       "  <matplotlib.patches.PathPatch at 0x1b5d43a39a0>],\n",
       " 'medians': [<matplotlib.lines.Line2D at 0x1b5d436efd0>,\n",
       "  <matplotlib.lines.Line2D at 0x1b5d4388220>,\n",
       "  <matplotlib.lines.Line2D at 0x1b5d4395430>,\n",
       "  <matplotlib.lines.Line2D at 0x1b5d43a3670>,\n",
       "  <matplotlib.lines.Line2D at 0x1b5d43b0880>],\n",
       " 'fliers': [<matplotlib.lines.Line2D at 0x1b5d437a2b0>,\n",
       "  <matplotlib.lines.Line2D at 0x1b5d43884c0>,\n",
       "  <matplotlib.lines.Line2D at 0x1b5d43956d0>,\n",
       "  <matplotlib.lines.Line2D at 0x1b5d43a3910>,\n",
       "  <matplotlib.lines.Line2D at 0x1b5d43b0b20>],\n",
       " 'means': []}"
      ]
     },
     "execution_count": 74,
     "metadata": {},
     "output_type": "execute_result"
    },
    {
     "data": {
      "text/plain": [
       "Text(0.5, 1.0, 'Recall of Different Methods')"
      ]
     },
     "execution_count": 74,
     "metadata": {},
     "output_type": "execute_result"
    },
    {
     "data": {
      "image/png": "[encoded data removed]",
      "text/plain": [
       "<Figure size 640x480 with 2 Axes>"
      ]
     },
     "metadata": {},
     "output_type": "display_data"
    }
   ],
   "source": [
    "# 在绘制盒图时可以考虑画多个子图，一个子图对应一个性能指标\n",
    "fig, axes = plt.subplots(2, 1)\n",
    "axes = axes.flatten()\n",
    "\n",
    "axes[0].boxplot([precision_onetree, precision_ada, precision_xgb, precision_rf, precision_svm], notch=True,\n",
    "                patch_artist=True, labels=['DecisionTree', 'AdaBoost', 'XGBoost', 'RandomForest', 'SVM-rbf'])\n",
    "axes[0].set_title('Precision of Different Methods')\n",
    "\n",
    "axes[1].boxplot([recall_onetree, recall_ada, recall_xgb, recall_rf, recall_svm], notch=True,\n",
    "                patch_artist=True, labels=['DecisionTree', 'AdaBoost', 'XGBoost', 'RandomForest', 'SVM-rbf'])\n",
    "axes[1].set_title('Recall of Different Methods')\n",
    "\n",
    "plt.tight_layout()\n",
    "plt.show()"
   ]
  },
  {
   "cell_type": "code",
   "execution_count": 75,
   "metadata": {},
   "outputs": [
    {
     "name": "stdout",
     "output_type": "stream",
     "text": [
      "决策树精确度： [0.7822751188604847, 0.7873985758228983, 0.7859314791294426, 0.7817363530778165, 0.7929455282611102, 0.7817363530778165, 0.787444684573428, 0.8063137487389536, 0.7917937167937167, 0.7817363530778165, 0.7859314791294426, 0.7873985758228983, 0.7822751188604847, 0.7817006340937197, 0.7817363530778165, 0.7822751188604847, 0.787444684573428, 0.7909809702492628, 0.7757119628339141, 0.7817363530778165, 0.7817363530778165, 0.7959385981327844, 0.7873985758228983, 0.7817363530778165, 0.797317844238143, 0.797317844238143, 0.7929455282611102, 0.7822751188604847, 0.7873985758228983, 0.7822751188604847, 0.8010736658558112, 0.7822751188604847, 0.7822751188604847, 0.7817363530778165, 0.7822751188604847, 0.7861978333602816, 0.7817363530778165, 0.7929455282611102, 0.7817363530778165, 0.7822751188604847, 0.8010276505658935, 0.7916343018178487, 0.787444684573428, 0.7916343018178487, 0.7817363530778165, 0.8010736658558112, 0.8010736658558112, 0.7873985758228983, 0.7817363530778165, 0.7911140260982442]\n",
      "Adaboost精确度： [0.7757119628339141, 0.7757119628339141, 0.7796797054763, 0.7757119628339141, 0.7796797054763, 0.7757119628339141, 0.7757119628339141, 0.7757119628339141, 0.7796797054763, 0.7757119628339141, 0.7757119628339141, 0.7757119628339141, 0.7796797054763, 0.7757119628339141, 0.7757119628339141, 0.7796797054763, 0.7796797054763, 0.7757119628339141, 0.7757119628339141, 0.7796797054763, 0.7757119628339141, 0.7757119628339141, 0.7757119628339141, 0.7757119628339141, 0.7757119628339141, 0.7757119628339141, 0.7757119628339141, 0.7757119628339141, 0.7796797054763, 0.7757119628339141, 0.7757119628339141, 0.7757119628339141, 0.7757119628339141, 0.7796797054763, 0.7757119628339141, 0.7757119628339141, 0.7757119628339141, 0.7757119628339141, 0.7796797054763, 0.7757119628339141, 0.7757119628339141, 0.7757119628339141, 0.7757119628339141, 0.7757119628339141, 0.7757119628339141, 0.7757119628339141, 0.7757119628339141, 0.7796797054763, 0.7757119628339141, 0.7757119628339141]\n",
      "XGBoost精确度： [0.839673737240198, 0.839673737240198, 0.839673737240198, 0.839673737240198, 0.839673737240198, 0.839673737240198, 0.839673737240198, 0.839673737240198, 0.839673737240198, 0.839673737240198, 0.839673737240198, 0.839673737240198, 0.839673737240198, 0.839673737240198, 0.839673737240198, 0.839673737240198, 0.839673737240198, 0.839673737240198, 0.839673737240198, 0.839673737240198, 0.839673737240198, 0.839673737240198, 0.839673737240198, 0.839673737240198, 0.839673737240198, 0.839673737240198, 0.839673737240198, 0.839673737240198, 0.839673737240198, 0.839673737240198, 0.839673737240198, 0.839673737240198, 0.839673737240198, 0.839673737240198, 0.839673737240198, 0.839673737240198, 0.839673737240198, 0.839673737240198, 0.839673737240198, 0.839673737240198, 0.839673737240198, 0.839673737240198, 0.839673737240198, 0.839673737240198, 0.839673737240198, 0.839673737240198, 0.839673737240198, 0.839673737240198, 0.839673737240198, 0.839673737240198]\n",
      "随机森林精确度： [0.7719316074739695, 0.83869918699187, 0.7891266233177175, 0.8302525434569167, 0.7944243439184175, 0.7857401814613757, 0.7643536600423418, 0.8132122735701042, 0.7871332706944576, 0.8586720801235959, 0.8385858585858587, 0.8260249289469285, 0.7706361526552544, 0.7985612219758561, 0.7852828810085511, 0.8288421147377387, 0.7905674172337335, 0.8038712275667649, 0.8039020506640354, 0.7952645252156938, 0.7857689804861574, 0.8151219999049353, 0.7992590305649891, 0.8498003137926115, 0.8067001822133434, 0.8134925356222203, 0.7780949574468189, 0.7728084562230902, 0.8224832017011561, 0.799720424755268, 0.7666198277214143, 0.7803571428571429, 0.7827049815690381, 0.7934746398365362, 0.7912154978564058, 0.8374740990227326, 0.8188421488977217, 0.8182434172909098, 0.7818797676337764, 0.7944370571412958, 0.7619609288916802, 0.7567700324039374, 0.8109784791965566, 0.8096432153189542, 0.8071820494277926, 0.8545582774557208, 0.8082662860058765, 0.8150118576585613, 0.8051463414634147, 0.8081160781212674]\n",
      "SVM精确度： [0.8320768662232076, 0.8320768662232076, 0.8320768662232076, 0.8320768662232076, 0.8320768662232076, 0.8320768662232076, 0.8320768662232076, 0.8320768662232076, 0.8320768662232076, 0.8320768662232076, 0.8320768662232076, 0.8320768662232076, 0.8320768662232076, 0.8320768662232076, 0.8320768662232076, 0.8320768662232076, 0.8320768662232076, 0.8320768662232076, 0.8320768662232076, 0.8320768662232076, 0.8320768662232076, 0.8320768662232076, 0.8320768662232076, 0.8320768662232076, 0.8320768662232076, 0.8320768662232076, 0.8320768662232076, 0.8320768662232076, 0.8320768662232076, 0.8320768662232076, 0.8320768662232076, 0.8320768662232076, 0.8320768662232076, 0.8320768662232076, 0.8320768662232076, 0.8320768662232076, 0.8320768662232076, 0.8320768662232076, 0.8320768662232076, 0.8320768662232076, 0.8320768662232076, 0.8320768662232076, 0.8320768662232076, 0.8320768662232076, 0.8320768662232076, 0.8320768662232076, 0.8320768662232076, 0.8320768662232076, 0.8320768662232076, 0.8320768662232076]\n"
     ]
    }
   ],
   "source": [
    "#输出 精确度\n",
    "print(\"决策树精确度：\",precision_onetree)\n",
    "print(\"Adaboost精确度：\",precision_ada)\n",
    "print(\"XGBoost精确度：\",precision_xgb)\n",
    "print(\"随机森林精确度：\",precision_rf)\n",
    "print(\"SVM精确度：\",precision_svm)"
   ]
  },
  {
   "cell_type": "code",
   "execution_count": 76,
   "metadata": {},
   "outputs": [
    {
     "name": "stdout",
     "output_type": "stream",
     "text": [
      "决策树召回率： [0.775609756097561, 0.7853658536585366, 0.7853658536585366, 0.7804878048780488, 0.7902439024390244, 0.7804878048780488, 0.7853658536585366, 0.8048780487804879, 0.7853658536585366, 0.7804878048780488, 0.7853658536585366, 0.7853658536585366, 0.775609756097561, 0.775609756097561, 0.7804878048780488, 0.775609756097561, 0.7853658536585366, 0.7902439024390244, 0.7707317073170732, 0.7804878048780488, 0.7804878048780488, 0.7951219512195122, 0.7853658536585366, 0.7804878048780488, 0.7902439024390244, 0.7902439024390244, 0.7902439024390244, 0.775609756097561, 0.7853658536585366, 0.775609756097561, 0.8, 0.775609756097561, 0.775609756097561, 0.7804878048780488, 0.775609756097561, 0.7804878048780488, 0.7804878048780488, 0.7902439024390244, 0.7804878048780488, 0.775609756097561, 0.7951219512195122, 0.7902439024390244, 0.7853658536585366, 0.7902439024390244, 0.7804878048780488, 0.8, 0.8, 0.7853658536585366, 0.7804878048780488, 0.7853658536585366]\n",
      "Adaboost召回率： [0.7707317073170732, 0.7707317073170732, 0.775609756097561, 0.7707317073170732, 0.775609756097561, 0.7707317073170732, 0.7707317073170732, 0.7707317073170732, 0.775609756097561, 0.7707317073170732, 0.7707317073170732, 0.7707317073170732, 0.775609756097561, 0.7707317073170732, 0.7707317073170732, 0.775609756097561, 0.775609756097561, 0.7707317073170732, 0.7707317073170732, 0.775609756097561, 0.7707317073170732, 0.7707317073170732, 0.7707317073170732, 0.7707317073170732, 0.7707317073170732, 0.7707317073170732, 0.7707317073170732, 0.7707317073170732, 0.775609756097561, 0.7707317073170732, 0.7707317073170732, 0.7707317073170732, 0.7707317073170732, 0.775609756097561, 0.7707317073170732, 0.7707317073170732, 0.7707317073170732, 0.7707317073170732, 0.775609756097561, 0.7707317073170732, 0.7707317073170732, 0.7707317073170732, 0.7707317073170732, 0.7707317073170732, 0.7707317073170732, 0.7707317073170732, 0.7707317073170732, 0.775609756097561, 0.7707317073170732, 0.7707317073170732]\n",
      "XGBoost召回率： [0.8390243902439024, 0.8390243902439024, 0.8390243902439024, 0.8390243902439024, 0.8390243902439024, 0.8390243902439024, 0.8390243902439024, 0.8390243902439024, 0.8390243902439024, 0.8390243902439024, 0.8390243902439024, 0.8390243902439024, 0.8390243902439024, 0.8390243902439024, 0.8390243902439024, 0.8390243902439024, 0.8390243902439024, 0.8390243902439024, 0.8390243902439024, 0.8390243902439024, 0.8390243902439024, 0.8390243902439024, 0.8390243902439024, 0.8390243902439024, 0.8390243902439024, 0.8390243902439024, 0.8390243902439024, 0.8390243902439024, 0.8390243902439024, 0.8390243902439024, 0.8390243902439024, 0.8390243902439024, 0.8390243902439024, 0.8390243902439024, 0.8390243902439024, 0.8390243902439024, 0.8390243902439024, 0.8390243902439024, 0.8390243902439024, 0.8390243902439024, 0.8390243902439024, 0.8390243902439024, 0.8390243902439024, 0.8390243902439024, 0.8390243902439024, 0.8390243902439024, 0.8390243902439024, 0.8390243902439024, 0.8390243902439024, 0.8390243902439024]\n",
      "随机森林召回率： [0.7707317073170732, 0.8390243902439024, 0.7902439024390244, 0.824390243902439, 0.7951219512195122, 0.7853658536585366, 0.7609756097560976, 0.8146341463414634, 0.7853658536585366, 0.8536585365853658, 0.8341463414634146, 0.824390243902439, 0.7707317073170732, 0.7951219512195122, 0.7853658536585366, 0.8292682926829268, 0.7902439024390244, 0.8, 0.8, 0.7902439024390244, 0.7853658536585366, 0.8146341463414634, 0.8, 0.8439024390243902, 0.8048780487804879, 0.8146341463414634, 0.775609756097561, 0.7707317073170732, 0.8195121951219512, 0.8, 0.7658536585365854, 0.7804878048780488, 0.7804878048780488, 0.7951219512195122, 0.7902439024390244, 0.8341463414634146, 0.8195121951219512, 0.8195121951219512, 0.7804878048780488, 0.7951219512195122, 0.7609756097560976, 0.7560975609756098, 0.8097560975609757, 0.8097560975609757, 0.8097560975609757, 0.8536585365853658, 0.8097560975609757, 0.8146341463414634, 0.8048780487804879, 0.8048780487804879]\n",
      "SVM召回率： [0.8292682926829268, 0.8292682926829268, 0.8292682926829268, 0.8292682926829268, 0.8292682926829268, 0.8292682926829268, 0.8292682926829268, 0.8292682926829268, 0.8292682926829268, 0.8292682926829268, 0.8292682926829268, 0.8292682926829268, 0.8292682926829268, 0.8292682926829268, 0.8292682926829268, 0.8292682926829268, 0.8292682926829268, 0.8292682926829268, 0.8292682926829268, 0.8292682926829268, 0.8292682926829268, 0.8292682926829268, 0.8292682926829268, 0.8292682926829268, 0.8292682926829268, 0.8292682926829268, 0.8292682926829268, 0.8292682926829268, 0.8292682926829268, 0.8292682926829268, 0.8292682926829268, 0.8292682926829268, 0.8292682926829268, 0.8292682926829268, 0.8292682926829268, 0.8292682926829268, 0.8292682926829268, 0.8292682926829268, 0.8292682926829268, 0.8292682926829268, 0.8292682926829268, 0.8292682926829268, 0.8292682926829268, 0.8292682926829268, 0.8292682926829268, 0.8292682926829268, 0.8292682926829268, 0.8292682926829268, 0.8292682926829268, 0.8292682926829268]\n"
     ]
    }
   ],
   "source": [
    "#输出 召回率\n",
    "print(\"决策树召回率：\",recall_onetree)\n",
    "print(\"Adaboost召回率：\",recall_ada)\n",
    "print(\"XGBoost召回率：\",recall_xgb)\n",
    "print(\"随机森林召回率：\",recall_rf)\n",
    "print(\"SVM召回率：\",recall_svm)"
   ]
  }
 ],
 "metadata": {
  "kernelspec": {
   "display_name": "Python 3",
   "language": "python",
   "name": "python3"
  },
  "language_info": {
   "codemirror_mode": {
    "name": "ipython",
    "version": 3
   },
   "file_extension": ".py",
   "mimetype": "text/x-python",
   "name": "python",
   "nbconvert_exporter": "python",
   "pygments_lexer": "ipython3",
   "version": "3.8.10"
  }
 },
 "nbformat": 4,
 "nbformat_minor": 2
}
